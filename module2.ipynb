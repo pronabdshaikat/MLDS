{
  "nbformat": 4,
  "nbformat_minor": 0,
  "metadata": {
    "colab": {
      "provenance": [],
      "authorship_tag": "ABX9TyNfsYXwALYVJFodn1ZUV62w",
      "include_colab_link": true
    },
    "kernelspec": {
      "name": "python3",
      "display_name": "Python 3"
    },
    "language_info": {
      "name": "python"
    }
  },
  "cells": [
    {
      "cell_type": "markdown",
      "metadata": {
        "id": "view-in-github",
        "colab_type": "text"
      },
      "source": [
        "<a href=\"https://colab.research.google.com/github/pronabdshaikat/MLDS/blob/main/module2.ipynb\" target=\"_parent\"><img src=\"https://colab.research.google.com/assets/colab-badge.svg\" alt=\"Open In Colab\"/></a>"
      ]
    },
    {
      "cell_type": "markdown",
      "source": [
        "**Class 1**"
      ],
      "metadata": {
        "id": "UtuIwjazgObF"
      }
    },
    {
      "cell_type": "code",
      "execution_count": null,
      "metadata": {
        "colab": {
          "base_uri": "https://localhost:8080/"
        },
        "id": "bjW_BPrkEk0u",
        "outputId": "680095fc-5b22-4820-d819-a6251c633120"
      },
      "outputs": [
        {
          "output_type": "stream",
          "name": "stdout",
          "text": [
            "hello\n"
          ]
        }
      ],
      "source": [
        "#print\n",
        "print('hello')"
      ]
    },
    {
      "cell_type": "code",
      "source": [
        "#normal arithmatics\n",
        "a=10\n",
        "b=20\n",
        "c=a+b\n",
        "print(c)"
      ],
      "metadata": {
        "colab": {
          "base_uri": "https://localhost:8080/"
        },
        "id": "tPTN6msbJp-e",
        "outputId": "d26b86ba-051d-4d2c-88c0-e635e84c95f4"
      },
      "execution_count": null,
      "outputs": [
        {
          "output_type": "stream",
          "name": "stdout",
          "text": [
            "30\n"
          ]
        }
      ]
    },
    {
      "cell_type": "code",
      "source": [
        "#swapping variables\n",
        "x, y=10,20\n",
        "print('value of x=',x)\n",
        "print('value of y=',y)\n",
        "\n",
        "x,y=y,x\n",
        "print('value of x after swapping=',x)\n",
        "print('value of y after swapping=',y)\n"
      ],
      "metadata": {
        "colab": {
          "base_uri": "https://localhost:8080/"
        },
        "id": "5PlHSt4EJw8d",
        "outputId": "5dadd54d-34b8-4d27-e408-043003d4867a"
      },
      "execution_count": null,
      "outputs": [
        {
          "output_type": "stream",
          "name": "stdout",
          "text": [
            "value of x= 10\n",
            "value of y= 20\n",
            "value of x after swapping= 20\n",
            "value of y after swapping= 10\n"
          ]
        }
      ]
    },
    {
      "cell_type": "markdown",
      "source": [
        "**Class 2**"
      ],
      "metadata": {
        "id": "hl-XUZ1wgTA7"
      }
    },
    {
      "cell_type": "code",
      "source": [
        "#indentation\n",
        "a=10\n",
        "b=20\n",
        "if a>b:\n",
        "  print('a is large')\n",
        "else:\n",
        "    print('b is large')"
      ],
      "metadata": {
        "colab": {
          "base_uri": "https://localhost:8080/"
        },
        "id": "MJHLew7s8-6t",
        "outputId": "bc6c8641-beb1-4c3f-fc26-e284b078724d"
      },
      "execution_count": null,
      "outputs": [
        {
          "output_type": "stream",
          "name": "stdout",
          "text": [
            "b is large\n"
          ]
        }
      ]
    },
    {
      "cell_type": "code",
      "source": [
        "#using user input for calculation\n",
        "a=int(input('enter the value of a='))\n",
        "b=int(input('enter the value of b='))\n",
        "c=a+b\n",
        "print(c)"
      ],
      "metadata": {
        "colab": {
          "base_uri": "https://localhost:8080/"
        },
        "id": "qfUnOgT6BfC2",
        "outputId": "fb610818-9b8f-41e5-e2e5-e32bf9edea75"
      },
      "execution_count": null,
      "outputs": [
        {
          "output_type": "stream",
          "name": "stdout",
          "text": [
            "enter the value of a=10\n",
            "enter the value of b=20\n",
            "30\n"
          ]
        }
      ]
    },
    {
      "cell_type": "code",
      "source": [
        "#multi-line statement\n",
        "a=30\n",
        "b=40\n",
        "c=50\n",
        "d=a+\\\n",
        "b+\\\n",
        "c\n",
        "print(d)"
      ],
      "metadata": {
        "colab": {
          "base_uri": "https://localhost:8080/"
        },
        "id": "g7gWGws9Etxc",
        "outputId": "aa527e34-b177-40be-ef9f-15cf0e72da8d"
      },
      "execution_count": null,
      "outputs": [
        {
          "output_type": "stream",
          "name": "stdout",
          "text": [
            "120\n"
          ]
        }
      ]
    },
    {
      "cell_type": "code",
      "source": [
        "t=[1,2,3,\n",
        "     5,5,42,\n",
        "     3]\n",
        "print(t)"
      ],
      "metadata": {
        "colab": {
          "base_uri": "https://localhost:8080/"
        },
        "id": "02HPEFE0HFqp",
        "outputId": "d42e0575-8dd6-45c8-d720-237f26cdacf3"
      },
      "execution_count": null,
      "outputs": [
        {
          "output_type": "stream",
          "name": "stdout",
          "text": [
            "[1, 2, 3, 5, 5, 42, 3]\n"
          ]
        }
      ]
    },
    {
      "cell_type": "code",
      "source": [
        "#deleting variable\n",
        "n=10\n",
        "m=40\n",
        "print(n)\n",
        "del n\n",
        "print(n)"
      ],
      "metadata": {
        "colab": {
          "base_uri": "https://localhost:8080/",
          "height": 193
        },
        "id": "my7WROK0IXlA",
        "outputId": "dba4c731-bf9c-49de-8529-b1b67229bb91"
      },
      "execution_count": null,
      "outputs": [
        {
          "output_type": "stream",
          "name": "stdout",
          "text": [
            "10\n"
          ]
        },
        {
          "output_type": "error",
          "ename": "NameError",
          "evalue": "name 'n' is not defined",
          "traceback": [
            "\u001b[0;31m---------------------------------------------------------------------------\u001b[0m",
            "\u001b[0;31mNameError\u001b[0m                                 Traceback (most recent call last)",
            "\u001b[0;32m<ipython-input-7-0de772cf4edd>\u001b[0m in \u001b[0;36m<cell line: 5>\u001b[0;34m()\u001b[0m\n\u001b[1;32m      3\u001b[0m \u001b[0mprint\u001b[0m\u001b[0;34m(\u001b[0m\u001b[0mn\u001b[0m\u001b[0;34m)\u001b[0m\u001b[0;34m\u001b[0m\u001b[0;34m\u001b[0m\u001b[0m\n\u001b[1;32m      4\u001b[0m \u001b[0;32mdel\u001b[0m \u001b[0mn\u001b[0m\u001b[0;34m\u001b[0m\u001b[0;34m\u001b[0m\u001b[0m\n\u001b[0;32m----> 5\u001b[0;31m \u001b[0mprint\u001b[0m\u001b[0;34m(\u001b[0m\u001b[0mn\u001b[0m\u001b[0;34m)\u001b[0m\u001b[0;34m\u001b[0m\u001b[0;34m\u001b[0m\u001b[0m\n\u001b[0m",
            "\u001b[0;31mNameError\u001b[0m: name 'n' is not defined"
          ]
        }
      ]
    },
    {
      "cell_type": "code",
      "source": [
        "#data types\n",
        "l='NACTAR'\n",
        "m=10\n",
        "n=10.5\n",
        "print(type(l))\n",
        "print(type(m))\n",
        "print(type(n))\n",
        "\n",
        "t=[1,2,3,\n",
        "     5,5,42,\n",
        "     3]\n",
        "print(type(t))"
      ],
      "metadata": {
        "colab": {
          "base_uri": "https://localhost:8080/"
        },
        "id": "36B9veNHI46-",
        "outputId": "35b9c447-e17f-4cfb-9645-e7956cd3644a"
      },
      "execution_count": null,
      "outputs": [
        {
          "output_type": "stream",
          "name": "stdout",
          "text": [
            "<class 'str'>\n",
            "<class 'int'>\n",
            "<class 'float'>\n",
            "<class 'list'>\n"
          ]
        }
      ]
    },
    {
      "cell_type": "markdown",
      "source": [
        "Python has 8 types of data.\n",
        "1. Numeric: a) interger, b) float, c) complex\n",
        "2. String\n",
        "3. Sequence: a) list, b) tuple, c) range\n",
        "4. Binary: a) byte, b) byte array, c) memory view\n",
        "5. Dictionary\n",
        "6. Set: a) set, b) frozen set\n",
        "7. Boolean\n",
        "8. None  "
      ],
      "metadata": {
        "id": "VZqrnWYvMR-u"
      }
    },
    {
      "cell_type": "code",
      "source": [
        "#numeric data type\n",
        "a=10\n",
        "b=10.5\n",
        "c=10+5j\n",
        "print(type(a))\n",
        "print(type(b))\n",
        "print(type(c))"
      ],
      "metadata": {
        "colab": {
          "base_uri": "https://localhost:8080/"
        },
        "id": "D6MDj2_FNTG-",
        "outputId": "975676b0-12ad-4438-dbe7-4cb5c760ccf9"
      },
      "execution_count": null,
      "outputs": [
        {
          "output_type": "stream",
          "name": "stdout",
          "text": [
            "<class 'int'>\n",
            "<class 'float'>\n",
            "<class 'complex'>\n"
          ]
        }
      ]
    },
    {
      "cell_type": "code",
      "source": [
        "#string data type\n",
        "n='NACTAR'\n",
        "l='10'\n",
        "print(type(n))\n",
        "print(type(l))"
      ],
      "metadata": {
        "colab": {
          "base_uri": "https://localhost:8080/"
        },
        "id": "fAKppNQwN76J",
        "outputId": "f1466b73-7baa-4c0a-d68f-27c43ede5d1c"
      },
      "execution_count": null,
      "outputs": [
        {
          "output_type": "stream",
          "name": "stdout",
          "text": [
            "<class 'str'>\n",
            "<class 'str'>\n"
          ]
        }
      ]
    },
    {
      "cell_type": "code",
      "source": [
        "#slicing\n",
        "x='hello world'\n",
        "print(x)\n",
        "print(x[0])\n",
        "print(x[1])\n",
        "print(x[2:5])\n",
        "print(x[6:])\n",
        "print(x[:5])"
      ],
      "metadata": {
        "colab": {
          "base_uri": "https://localhost:8080/"
        },
        "id": "kYn8DSLCO7Ji",
        "outputId": "6e110a18-c30e-4f5d-c563-e915fbdad003"
      },
      "execution_count": null,
      "outputs": [
        {
          "output_type": "stream",
          "name": "stdout",
          "text": [
            "hello world\n",
            "h\n",
            "e\n",
            "llo\n",
            "world\n",
            "hello\n"
          ]
        }
      ]
    },
    {
      "cell_type": "code",
      "source": [
        "str = 'Hello World!'\n",
        "\n",
        "print (str)          # Prints complete string\n",
        "print (str[0])       # Prints first character of the string\n",
        "print (str[2:5])     # Prints characters starting from 3rd to 5th\n",
        "print (str[2:])      # Prints string starting from 3rd character\n",
        "print (str * 2)      # Prints string two times\n",
        "print (str + \"TEST\") # Prints concatenated string"
      ],
      "metadata": {
        "colab": {
          "base_uri": "https://localhost:8080/"
        },
        "id": "EtJijjWURq_x",
        "outputId": "c7c64d0e-1375-4a79-e6cf-c098a7140bca"
      },
      "execution_count": null,
      "outputs": [
        {
          "output_type": "stream",
          "name": "stdout",
          "text": [
            "Hello World!\n",
            "H\n",
            "llo\n",
            "llo World!\n",
            "Hello World!Hello World!\n",
            "Hello World!TEST\n"
          ]
        }
      ]
    },
    {
      "cell_type": "code",
      "source": [
        "#sequence data type\n",
        "#list: using [] third bracket\n",
        "t=[1,2,3,5,5,42,3]\n",
        "p=[1,2,3j,'NACTAR']\n",
        "print(type(t))\n",
        "print(type(p))"
      ],
      "metadata": {
        "colab": {
          "base_uri": "https://localhost:8080/"
        },
        "id": "kH9ba30eTFo1",
        "outputId": "7a2fdb43-0f55-401c-9559-1fb41ee38aa7"
      },
      "execution_count": null,
      "outputs": [
        {
          "output_type": "stream",
          "name": "stdout",
          "text": [
            "<class 'list'>\n",
            "<class 'list'>\n"
          ]
        }
      ]
    },
    {
      "cell_type": "markdown",
      "source": [
        "**Class 3**"
      ],
      "metadata": {
        "id": "E31ASBSnIMIo"
      }
    },
    {
      "cell_type": "code",
      "source": [
        "#list\n",
        "list=['mithun', 100, 'fahad', 4+6j, 80.5]\n",
        "list1=['taher', 75, 'gulshan', 50, 34.5]\n",
        "print(type(list))\n",
        "\n",
        "print(list)\n",
        "print(list1)\n",
        "print(list1[0])\n",
        "print(list1[2:])\n",
        "print(list1[-1])\n",
        "print(list1*2)\n",
        "print(list+list1)\n",
        "\n",
        "list[0]='sultan'\n",
        "print(list)"
      ],
      "metadata": {
        "colab": {
          "base_uri": "https://localhost:8080/"
        },
        "id": "_rm80hoMINx9",
        "outputId": "7a379fb7-515e-4e69-c8f2-9dbdbaf17603"
      },
      "execution_count": null,
      "outputs": [
        {
          "output_type": "stream",
          "name": "stdout",
          "text": [
            "<class 'list'>\n",
            "['mithun', 100, 'fahad', (4+6j), 80.5]\n",
            "['taher', 75, 'gulshan', 50, 34.5]\n",
            "taher\n",
            "['gulshan', 50, 34.5]\n",
            "34.5\n",
            "['taher', 75, 'gulshan', 50, 34.5, 'taher', 75, 'gulshan', 50, 34.5]\n",
            "['mithun', 100, 'fahad', (4+6j), 80.5, 'taher', 75, 'gulshan', 50, 34.5]\n",
            "['sultan', 100, 'fahad', (4+6j), 80.5]\n"
          ]
        }
      ]
    },
    {
      "cell_type": "code",
      "source": [
        "#tuple: non-mutable\n",
        "tuple=('mithun', 100, 'fahad', 4+6j)\n",
        "tuple1=('taher', 75, 'gulshan')\n",
        "print(type(tuple))\n",
        "\n",
        "tuple[2]='mohi'\n",
        "print(tuple)"
      ],
      "metadata": {
        "colab": {
          "base_uri": "https://localhost:8080/",
          "height": 211
        },
        "id": "qSInX7A0N4pc",
        "outputId": "553cf1b3-311d-45a4-8df7-2e4bc93cbb22"
      },
      "execution_count": null,
      "outputs": [
        {
          "output_type": "stream",
          "name": "stdout",
          "text": [
            "<class 'tuple'>\n"
          ]
        },
        {
          "output_type": "error",
          "ename": "TypeError",
          "evalue": "'tuple' object does not support item assignment",
          "traceback": [
            "\u001b[0;31m---------------------------------------------------------------------------\u001b[0m",
            "\u001b[0;31mTypeError\u001b[0m                                 Traceback (most recent call last)",
            "\u001b[0;32m<ipython-input-12-d7b902b6d568>\u001b[0m in \u001b[0;36m<cell line: 6>\u001b[0;34m()\u001b[0m\n\u001b[1;32m      4\u001b[0m \u001b[0mprint\u001b[0m\u001b[0;34m(\u001b[0m\u001b[0mtype\u001b[0m\u001b[0;34m(\u001b[0m\u001b[0mtuple\u001b[0m\u001b[0;34m)\u001b[0m\u001b[0;34m)\u001b[0m\u001b[0;34m\u001b[0m\u001b[0;34m\u001b[0m\u001b[0m\n\u001b[1;32m      5\u001b[0m \u001b[0;34m\u001b[0m\u001b[0m\n\u001b[0;32m----> 6\u001b[0;31m \u001b[0mtuple\u001b[0m\u001b[0;34m[\u001b[0m\u001b[0;36m2\u001b[0m\u001b[0;34m]\u001b[0m\u001b[0;34m=\u001b[0m\u001b[0;34m'mohi'\u001b[0m\u001b[0;34m\u001b[0m\u001b[0;34m\u001b[0m\u001b[0m\n\u001b[0m\u001b[1;32m      7\u001b[0m \u001b[0mprint\u001b[0m\u001b[0;34m(\u001b[0m\u001b[0mtuple\u001b[0m\u001b[0;34m)\u001b[0m\u001b[0;34m\u001b[0m\u001b[0;34m\u001b[0m\u001b[0m\n",
            "\u001b[0;31mTypeError\u001b[0m: 'tuple' object does not support item assignment"
          ]
        }
      ]
    },
    {
      "cell_type": "code",
      "source": [
        "#range\n",
        "for i in range(1,10,3):\n",
        "  print(i)\n",
        "\n",
        "for i in range(10):\n",
        "  print(i)"
      ],
      "metadata": {
        "colab": {
          "base_uri": "https://localhost:8080/"
        },
        "id": "PPsisDRkPszn",
        "outputId": "9a5ad58d-65bb-4b74-d268-9d9f8dadfc67"
      },
      "execution_count": null,
      "outputs": [
        {
          "output_type": "stream",
          "name": "stdout",
          "text": [
            "1\n",
            "4\n",
            "7\n",
            "0\n",
            "1\n",
            "2\n",
            "3\n",
            "4\n",
            "5\n",
            "6\n",
            "7\n",
            "8\n",
            "9\n"
          ]
        }
      ]
    },
    {
      "cell_type": "code",
      "source": [
        "#byte\n",
        "x=bytes([65,66,67,68])\n",
        "print(x)"
      ],
      "metadata": {
        "colab": {
          "base_uri": "https://localhost:8080/"
        },
        "id": "5JhKAm3xQ4xw",
        "outputId": "af041e5d-c99d-48ea-d381-259c94ddda17"
      },
      "execution_count": null,
      "outputs": [
        {
          "output_type": "stream",
          "name": "stdout",
          "text": [
            "b'ABCD'\n"
          ]
        }
      ]
    },
    {
      "cell_type": "markdown",
      "source": [
        "Byte: immutable,\n",
        "Byte array: mutable"
      ],
      "metadata": {
        "id": "zKZ0dCgwSj5f"
      }
    },
    {
      "cell_type": "code",
      "source": [
        "#bytearray\n",
        "x=bytearray([97,98,99,68])\n",
        "print(x)"
      ],
      "metadata": {
        "colab": {
          "base_uri": "https://localhost:8080/"
        },
        "id": "Es9wHzmHSrrh",
        "outputId": "2e0b9a08-e5f6-46ef-922a-df63a299b8b1"
      },
      "execution_count": null,
      "outputs": [
        {
          "output_type": "stream",
          "name": "stdout",
          "text": [
            "bytearray(b'abcD')\n"
          ]
        }
      ]
    },
    {
      "cell_type": "code",
      "source": [
        "#memoryview\n",
        "import array\n",
        "arr=array.array('i', [1,2,3,4,5])\n",
        "view=memoryview(arr)\n",
        "print(view)"
      ],
      "metadata": {
        "colab": {
          "base_uri": "https://localhost:8080/"
        },
        "id": "8YR45IFeTIsd",
        "outputId": "049da917-0b2b-48f8-ca35-5dc2de59ba5b"
      },
      "execution_count": null,
      "outputs": [
        {
          "output_type": "stream",
          "name": "stdout",
          "text": [
            "<memory at 0x7a07a85f1540>\n"
          ]
        }
      ]
    },
    {
      "cell_type": "markdown",
      "source": [
        "**Dictionary**\n",
        "dict={key1:value1,key2:value2}"
      ],
      "metadata": {
        "id": "hlMShsF5UDxo"
      }
    },
    {
      "cell_type": "code",
      "source": [
        "dict={1:'pronab',2:'huraira', 3:'ashoka'}\n",
        "print(type(dict))\n",
        "print(dict)\n",
        "print(dict[1]) #print no. 1 key\n",
        "print(dict[3])\n",
        "print(dict[2])\n",
        "print(dict.keys()) #print keys inside dict\n",
        "print(dict.values()) #print values inside dict"
      ],
      "metadata": {
        "colab": {
          "base_uri": "https://localhost:8080/"
        },
        "id": "sSvmtY7_Um45",
        "outputId": "192a879a-479e-44cb-befb-7044fe12cfa3"
      },
      "execution_count": null,
      "outputs": [
        {
          "output_type": "stream",
          "name": "stdout",
          "text": [
            "<class 'dict'>\n",
            "{1: 'pronab', 2: 'huraira', 3: 'ashoka'}\n",
            "pronab\n",
            "ashoka\n",
            "huraira\n",
            "dict_keys([1, 2, 3])\n",
            "dict_values(['pronab', 'huraira', 'ashoka'])\n"
          ]
        }
      ]
    },
    {
      "cell_type": "code",
      "source": [
        "#set: immutable usually, except frozen set\n",
        "a={1,2,3,4}\n",
        "print(type(a))\n",
        "print(a)"
      ],
      "metadata": {
        "colab": {
          "base_uri": "https://localhost:8080/"
        },
        "id": "5UVu0xQ3XYfW",
        "outputId": "9f7dc94a-1a10-43dd-9a21-205ee9a43c80"
      },
      "execution_count": null,
      "outputs": [
        {
          "output_type": "stream",
          "name": "stdout",
          "text": [
            "<class 'set'>\n",
            "{1, 2, 3, 4}\n"
          ]
        }
      ]
    },
    {
      "cell_type": "code",
      "source": [
        "#boolean\n",
        "a=True\n",
        "b=False\n",
        "print(a)\n",
        "print(b)\n",
        "print(type(a))"
      ],
      "metadata": {
        "colab": {
          "base_uri": "https://localhost:8080/"
        },
        "id": "lHp94nT3X61q",
        "outputId": "7a015add-fc9f-4bad-a4b9-a76396e4b088"
      },
      "execution_count": null,
      "outputs": [
        {
          "output_type": "stream",
          "name": "stdout",
          "text": [
            "True\n",
            "False\n",
            "<class 'bool'>\n"
          ]
        }
      ]
    },
    {
      "cell_type": "code",
      "source": [
        "#none\n",
        "a=None\n",
        "print(type(a))"
      ],
      "metadata": {
        "colab": {
          "base_uri": "https://localhost:8080/"
        },
        "id": "QVTfTCr2YbGy",
        "outputId": "e9bd2c0b-af8b-427a-f416-0eb5ffe9e10b"
      },
      "execution_count": null,
      "outputs": [
        {
          "output_type": "stream",
          "name": "stdout",
          "text": [
            "<class 'NoneType'>\n"
          ]
        }
      ]
    },
    {
      "cell_type": "markdown",
      "source": [
        "**Type Casting**"
      ],
      "metadata": {
        "id": "N_NbhFAZZLrz"
      }
    },
    {
      "cell_type": "code",
      "source": [
        "#auto type casting by python\n",
        "x=20.5\n",
        "y=40\n",
        "z=x+y\n",
        "print(z)\n",
        "\n",
        "a=True\n",
        "b=10\n",
        "c=a+b\n",
        "print(c)"
      ],
      "metadata": {
        "colab": {
          "base_uri": "https://localhost:8080/"
        },
        "id": "oU9GBSelZOF5",
        "outputId": "7d20bf34-b210-4041-f261-37db0cc8cc67"
      },
      "execution_count": null,
      "outputs": [
        {
          "output_type": "stream",
          "name": "stdout",
          "text": [
            "60.5\n",
            "11\n"
          ]
        }
      ]
    },
    {
      "cell_type": "code",
      "source": [
        "#manual type casting\n",
        "a=int(10.5)\n",
        "print(a)\n",
        "\n",
        "a=int('100')\n",
        "print(a)\n",
        "\n",
        "b=int('50'+'30')\n",
        "print(b)"
      ],
      "metadata": {
        "colab": {
          "base_uri": "https://localhost:8080/"
        },
        "id": "s4P4W2XKZ26H",
        "outputId": "53ede5fe-be8d-42d1-b4ba-b37f07ddb12e"
      },
      "execution_count": null,
      "outputs": [
        {
          "output_type": "stream",
          "name": "stdout",
          "text": [
            "10\n",
            "100\n",
            "5030\n"
          ]
        }
      ]
    },
    {
      "cell_type": "markdown",
      "source": [
        "**Operator:**\n",
        "1. Arithmatic\n",
        "2. Comparison\n",
        "3. Assignment\n",
        "4. Logical\n",
        "5. Bitwise\n",
        "6. Membership\n",
        "7. Identity"
      ],
      "metadata": {
        "id": "34rtxasZJjn9"
      }
    },
    {
      "cell_type": "markdown",
      "source": [
        "Arithmatic Operator:\n",
        "+, -, *, /, % (modulus), ** (exponent), // (floor division)"
      ],
      "metadata": {
        "id": "aQuqWhlvK-dT"
      }
    },
    {
      "cell_type": "code",
      "source": [
        "#arithmatic operator\n",
        "a=10\n",
        "b=20\n",
        "c=a+b\n",
        "print(c)\n",
        "\n",
        "\n",
        "a=10\n",
        "b=3\n",
        "c=a%b\n",
        "print(c)\n",
        "\n",
        "a=10\n",
        "b=3\n",
        "c=b%a\n",
        "print(c)\n",
        "\n",
        "a=10\n",
        "b=3\n",
        "c=a**b\n",
        "print(c)\n",
        "\n",
        "a=10\n",
        "b=3\n",
        "c=a//b\n",
        "print(c)"
      ],
      "metadata": {
        "colab": {
          "base_uri": "https://localhost:8080/"
        },
        "id": "cDEuYVHkJyhD",
        "outputId": "64333d93-4aeb-4dc4-8832-04666c7a0b5c"
      },
      "execution_count": null,
      "outputs": [
        {
          "output_type": "stream",
          "name": "stdout",
          "text": [
            "30\n",
            "1\n",
            "3\n",
            "1000\n",
            "3\n"
          ]
        }
      ]
    },
    {
      "cell_type": "markdown",
      "source": [
        "**Comparison Operator:**\n",
        "<, >, <=, >=, ==, !="
      ],
      "metadata": {
        "id": "kFDJO33kPV8w"
      }
    },
    {
      "cell_type": "code",
      "source": [
        "a=40\n",
        "b=50\n",
        "print(a<b)\n",
        "print(a>b)\n",
        "print(a==b)\n",
        "print(a<=b)\n",
        "print(a>=b)\n",
        "print(a!=b)\n"
      ],
      "metadata": {
        "colab": {
          "base_uri": "https://localhost:8080/"
        },
        "id": "piN-P5TrPl7o",
        "outputId": "b6b228dd-3809-4915-888b-f2ba4f950f86"
      },
      "execution_count": null,
      "outputs": [
        {
          "output_type": "stream",
          "name": "stdout",
          "text": [
            "True\n",
            "False\n",
            "False\n",
            "True\n",
            "False\n",
            "True\n",
            "True\n",
            "True\n",
            "False\n",
            "True\n"
          ]
        }
      ]
    },
    {
      "cell_type": "code",
      "source": [
        "c='NACTAR'\n",
        "d='NACTAR'\n",
        "e='GOVERNMENT'\n",
        "print(c==d)\n",
        "print(c>e)\n",
        "print(c<e)\n",
        "print(c!=e)"
      ],
      "metadata": {
        "id": "vAyiRKyRRcp6",
        "outputId": "53e0b100-b7b9-4d99-faeb-b782707d25de",
        "colab": {
          "base_uri": "https://localhost:8080/"
        }
      },
      "execution_count": null,
      "outputs": [
        {
          "output_type": "stream",
          "name": "stdout",
          "text": [
            "True\n",
            "True\n",
            "False\n",
            "True\n"
          ]
        }
      ]
    },
    {
      "cell_type": "markdown",
      "source": [
        "**Assignment Operator: **\n",
        "+=, -=, *=, /=, %=, **=, //="
      ],
      "metadata": {
        "id": "ZSDWk987zTu4"
      }
    },
    {
      "cell_type": "code",
      "source": [
        "a=50\n",
        "b=20\n",
        "a+=b\n",
        "print(a)"
      ],
      "metadata": {
        "colab": {
          "base_uri": "https://localhost:8080/"
        },
        "id": "auhHgOP7zhc1",
        "outputId": "5195d342-1fbe-4e61-bc2c-72c83010979e"
      },
      "execution_count": null,
      "outputs": [
        {
          "output_type": "stream",
          "name": "stdout",
          "text": [
            "70\n",
            "50\n"
          ]
        }
      ]
    },
    {
      "cell_type": "code",
      "source": [
        "a=50\n",
        "b=20\n",
        "a-=b\n",
        "print(a)"
      ],
      "metadata": {
        "colab": {
          "base_uri": "https://localhost:8080/"
        },
        "id": "EHV4PQCQ0lRf",
        "outputId": "483fbe17-fd58-45a2-de8c-d1c10c4c1ae5"
      },
      "execution_count": null,
      "outputs": [
        {
          "output_type": "stream",
          "name": "stdout",
          "text": [
            "30\n"
          ]
        }
      ]
    },
    {
      "cell_type": "code",
      "source": [
        "a=50\n",
        "b=20\n",
        "a*=b\n",
        "print(a)"
      ],
      "metadata": {
        "colab": {
          "base_uri": "https://localhost:8080/"
        },
        "id": "unJHAoPq0oF8",
        "outputId": "fefe1204-91a3-4c24-86b7-fea06b66d52a"
      },
      "execution_count": null,
      "outputs": [
        {
          "output_type": "stream",
          "name": "stdout",
          "text": [
            "1000\n"
          ]
        }
      ]
    },
    {
      "cell_type": "code",
      "source": [
        "a=50\n",
        "b=20\n",
        "a/=b\n",
        "print(a)"
      ],
      "metadata": {
        "colab": {
          "base_uri": "https://localhost:8080/"
        },
        "id": "7O7vtMq80rTk",
        "outputId": "be273c4c-bf6f-4e07-a6f4-98ec6beac5bf"
      },
      "execution_count": null,
      "outputs": [
        {
          "output_type": "stream",
          "name": "stdout",
          "text": [
            "2.5\n"
          ]
        }
      ]
    },
    {
      "cell_type": "code",
      "source": [
        "a=50\n",
        "b=20\n",
        "a%=b\n",
        "print(a)"
      ],
      "metadata": {
        "colab": {
          "base_uri": "https://localhost:8080/"
        },
        "id": "qzrDc_Yz0tiC",
        "outputId": "01ea4265-00e2-440c-9375-db937c891392"
      },
      "execution_count": null,
      "outputs": [
        {
          "output_type": "stream",
          "name": "stdout",
          "text": [
            "10\n"
          ]
        }
      ]
    },
    {
      "cell_type": "code",
      "source": [
        "a=50\n",
        "b=20\n",
        "a**=b\n",
        "print(a)"
      ],
      "metadata": {
        "colab": {
          "base_uri": "https://localhost:8080/"
        },
        "id": "L-BCp-rF0wAh",
        "outputId": "8fc76e97-9edc-4f9e-fd6a-4112f74fef53"
      },
      "execution_count": null,
      "outputs": [
        {
          "output_type": "stream",
          "name": "stdout",
          "text": [
            "9536743164062500000000000000000000\n"
          ]
        }
      ]
    },
    {
      "cell_type": "code",
      "source": [
        "a=50\n",
        "b=20\n",
        "a//=b\n",
        "print(a)"
      ],
      "metadata": {
        "id": "gEAB3sMx00d-",
        "outputId": "d9e2031c-8a99-490e-fe57-f6b39bd921e2",
        "colab": {
          "base_uri": "https://localhost:8080/"
        }
      },
      "execution_count": null,
      "outputs": [
        {
          "output_type": "stream",
          "name": "stdout",
          "text": [
            "2\n"
          ]
        }
      ]
    },
    {
      "cell_type": "markdown",
      "source": [
        "**Logical Operator: **\n",
        "and, or, not"
      ],
      "metadata": {
        "id": "ZDoTLLH-1eb7"
      }
    },
    {
      "cell_type": "code",
      "source": [
        "#logical operator\n",
        "a=10\n",
        "b=15\n",
        "c=20\n",
        "print(a<b and a<c)\n",
        "print(a<b and a>c)\n",
        "print(a<b or a>c)\n",
        "print(not(a<b or a>c))"
      ],
      "metadata": {
        "colab": {
          "base_uri": "https://localhost:8080/"
        },
        "id": "Lh_IOu7B3Ckt",
        "outputId": "8308e0d7-2118-443b-f61d-56b2c2f8898e"
      },
      "execution_count": null,
      "outputs": [
        {
          "output_type": "stream",
          "name": "stdout",
          "text": [
            "True\n",
            "False\n",
            "True\n",
            "False\n"
          ]
        }
      ]
    },
    {
      "cell_type": "markdown",
      "source": [
        "**Bitwise Operator:**\n",
        "and (&), or (|), not, ex-or(^), left shift (<<), right shift (>>)"
      ],
      "metadata": {
        "id": "BkNRFXaR4mic"
      }
    },
    {
      "cell_type": "code",
      "source": [
        "#bitwise operator\n",
        "a=15\n",
        "b=10\n",
        "print('a=', a, 'b=', b, 'a&b=', a&b) #and\n",
        "print('a=', a, 'b=', b, 'a&b=', a|b) #or\n",
        "print('a=', a, 'b=', b, 'a^b=', a^b) #ex-or\n",
        "print('not a=', ~a) #not\n",
        "print('left shift of a<<2=', a<<2) #left shift\n",
        "print('right shift of a>>2=', a>>2) #right shift"
      ],
      "metadata": {
        "colab": {
          "base_uri": "https://localhost:8080/"
        },
        "id": "6TtAzEm05YV-",
        "outputId": "af235a7b-e197-4fd9-cdac-f00e1937d451"
      },
      "execution_count": null,
      "outputs": [
        {
          "output_type": "stream",
          "name": "stdout",
          "text": [
            "a= 15 b= 10 a&b= 10\n",
            "a= 15 b= 10 a&b= 15\n",
            "a= 15 b= 10 a^b= 5\n",
            "not a= -16\n",
            "left shift of a<<2= 60\n",
            "right shift of a>>2= 3\n"
          ]
        }
      ]
    },
    {
      "cell_type": "markdown",
      "source": [
        "**Membership Operator**\n",
        "1. in\n",
        "2. not in"
      ],
      "metadata": {
        "id": "RYsE1R9G_dOz"
      }
    },
    {
      "cell_type": "code",
      "source": [
        "#membership operator\n",
        "a=[10,20,30,40]\n",
        "b=10\n",
        "c=45\n",
        "print('b is present in a=', b in a)\n",
        "print('c is present in a=', c in a)\n",
        "print('c is not present in a=', c not in a)"
      ],
      "metadata": {
        "colab": {
          "base_uri": "https://localhost:8080/"
        },
        "id": "sv-GNeme_juJ",
        "outputId": "2b326b10-f6e6-469c-e1b8-6dc151f25e1e"
      },
      "execution_count": null,
      "outputs": [
        {
          "output_type": "stream",
          "name": "stdout",
          "text": [
            "b is present in a= True\n",
            "c is present in a= False\n",
            "c is not present in a= True\n"
          ]
        }
      ]
    },
    {
      "cell_type": "code",
      "source": [
        "x='NACTAR'\n",
        "n='N'\n",
        "a='ACT'\n",
        "print('N is present in x=', n in x)\n",
        "print('ACT is present in x=', a in x)\n",
        "print('ACT is not present in x=', a not in x)"
      ],
      "metadata": {
        "colab": {
          "base_uri": "https://localhost:8080/"
        },
        "id": "pWUor40KAQKF",
        "outputId": "84338e39-a624-4ee2-8f59-1f02e9058cc0"
      },
      "execution_count": null,
      "outputs": [
        {
          "output_type": "stream",
          "name": "stdout",
          "text": [
            "N is present in x= True\n",
            "ACT is present in x= True\n",
            "ACT is not present in x= False\n"
          ]
        }
      ]
    },
    {
      "cell_type": "markdown",
      "source": [
        "**Identity Operator:** to check if they holding same memory or not\n",
        "1. is\n",
        "2. is not"
      ],
      "metadata": {
        "id": "QFR-PdEBCSPX"
      }
    },
    {
      "cell_type": "code",
      "source": [
        "a=10\n",
        "b=20\n",
        "d=10\n",
        "c=a\n",
        "print(a is b)\n",
        "print(a is not b)\n",
        "print(a is c)\n",
        "print(a is d)\n",
        "print(id(a)) #to check id of memory\n",
        "print(id(b))\n",
        "print(id(c))\n",
        "print(id(d))"
      ],
      "metadata": {
        "colab": {
          "base_uri": "https://localhost:8080/"
        },
        "id": "9T68NH9ZCZeb",
        "outputId": "73aa8222-f21b-44de-9f0d-8020477597fd"
      },
      "execution_count": null,
      "outputs": [
        {
          "output_type": "stream",
          "name": "stdout",
          "text": [
            "False\n",
            "True\n",
            "True\n",
            "True\n",
            "10751144\n",
            "10751464\n",
            "10751144\n",
            "10751144\n"
          ]
        }
      ]
    },
    {
      "cell_type": "code",
      "source": [
        "a= [1,2,3,4]\n",
        "b= [1,2,3,4]\n",
        "c=a\n",
        "print(a is b)\n",
        "print(a is c)\n",
        "print(id(a))\n",
        "print(id(b))\n",
        "print(id(c))"
      ],
      "metadata": {
        "colab": {
          "base_uri": "https://localhost:8080/"
        },
        "id": "enxu_a0tDJqx",
        "outputId": "27227896-ee5f-4aee-bac9-27ddd7def8f5"
      },
      "execution_count": null,
      "outputs": [
        {
          "output_type": "stream",
          "name": "stdout",
          "text": [
            "False\n",
            "True\n",
            "132626587001728\n",
            "132626587000256\n",
            "132626587001728\n"
          ]
        }
      ]
    },
    {
      "cell_type": "markdown",
      "source": [
        "**Control Statement:**\n",
        "1. Conditional control statement: if, if else, if elif, match case statement"
      ],
      "metadata": {
        "id": "zmRJwvFnKell"
      }
    },
    {
      "cell_type": "code",
      "source": [
        "#if\n",
        "x=10\n",
        "y=20\n",
        "\n",
        "if x<y:\n",
        "  print('x is less than y')"
      ],
      "metadata": {
        "colab": {
          "base_uri": "https://localhost:8080/"
        },
        "id": "AU3Y53hxK-UZ",
        "outputId": "e913bb33-a435-4d3e-b4c5-47c6d1b4b33b"
      },
      "execution_count": null,
      "outputs": [
        {
          "output_type": "stream",
          "name": "stdout",
          "text": [
            "x is less than y\n"
          ]
        }
      ]
    },
    {
      "cell_type": "code",
      "source": [
        "x=10\n",
        "y=20\n",
        "z=30\n",
        "\n",
        "if x<y and x>z:\n",
        "  print('x is less than y')"
      ],
      "metadata": {
        "id": "N59FdZ-KLyMv"
      },
      "execution_count": null,
      "outputs": []
    },
    {
      "cell_type": "code",
      "source": [
        "#if else\n",
        "age=int(input('Enter your age:'))\n",
        "\n",
        "if age<20:\n",
        "  print('teen age')\n",
        "else:\n",
        "  print('adult')\n",
        "\n",
        "print('above lines are executed well')"
      ],
      "metadata": {
        "colab": {
          "base_uri": "https://localhost:8080/"
        },
        "id": "XLgGV_gHNROA",
        "outputId": "cf9c0ccc-51ef-4449-e66a-e5e92effce42"
      },
      "execution_count": null,
      "outputs": [
        {
          "output_type": "stream",
          "name": "stdout",
          "text": [
            "Enter your age:65\n",
            "adult\n",
            "above lines are executed well\n"
          ]
        }
      ]
    },
    {
      "cell_type": "code",
      "source": [
        "#checking odd/even number\n",
        "number=int(input('Enter a number:'))\n",
        "\n",
        "if number%2==0:\n",
        "  print('number is even')\n",
        "else:\n",
        "  print('number is odd')"
      ],
      "metadata": {
        "colab": {
          "base_uri": "https://localhost:8080/"
        },
        "id": "Nuqehh22Hs-3",
        "outputId": "1c669811-56c7-422c-be7b-ed238c8a29c6"
      },
      "execution_count": null,
      "outputs": [
        {
          "output_type": "stream",
          "name": "stdout",
          "text": [
            "Enter a number:34\n",
            "number is even\n"
          ]
        }
      ]
    },
    {
      "cell_type": "code",
      "source": [
        "#elif\n",
        "#checking positive/negative number\n",
        "number=int(input('Enter a number:'))\n",
        "\n",
        "if number>0:\n",
        "  print('number is positive')\n",
        "elif number==0:\n",
        "  print('number is zero')\n",
        "else:\n",
        "  print('number is negative')\n"
      ],
      "metadata": {
        "colab": {
          "base_uri": "https://localhost:8080/"
        },
        "id": "3WUYbJm-INzC",
        "outputId": "4b28fdbb-8f6b-4777-87de-65ac5a76e529"
      },
      "execution_count": null,
      "outputs": [
        {
          "output_type": "stream",
          "name": "stdout",
          "text": [
            "Enter a number:0\n",
            "number is zero\n"
          ]
        }
      ]
    },
    {
      "cell_type": "code",
      "source": [
        "#identifying greater number\n",
        "a=int(input('Enter a number:'))\n",
        "b=int(input('Enter a number:'))\n",
        "c=int(input('Enter a number:'))\n",
        "\n",
        "if a>b and a>c:\n",
        "  print(a, 'is greater')\n",
        "elif b>a and b>c:\n",
        "  print(b, 'is greater')\n",
        "else:\n",
        "  print(c, 'is greater')\n"
      ],
      "metadata": {
        "colab": {
          "base_uri": "https://localhost:8080/"
        },
        "id": "QTaXYD8cLlv2",
        "outputId": "456a56d3-4ec2-4072-c8f5-c3a0074a74e5"
      },
      "execution_count": null,
      "outputs": [
        {
          "output_type": "stream",
          "name": "stdout",
          "text": [
            "Enter a number:32\n",
            "Enter a number:43\n",
            "Enter a number:23\n",
            "43 is greater\n"
          ]
        }
      ]
    },
    {
      "cell_type": "code",
      "source": [
        "#nested if\n",
        "a=int(input('Enter a number:'))\n",
        "\n",
        "if a%2==0:\n",
        "  if a%3==0:\n",
        "    print('number is divisible by 2 and 3')\n",
        "\n",
        "print('number is not divisible by 2 and 3')\n"
      ],
      "metadata": {
        "colab": {
          "base_uri": "https://localhost:8080/"
        },
        "id": "eyAHWzuLO3pm",
        "outputId": "f66fbf53-4532-468f-aec8-3ede95a5fa78"
      },
      "execution_count": null,
      "outputs": [
        {
          "output_type": "stream",
          "name": "stdout",
          "text": [
            "Enter a number:18\n",
            "number is divisible by 2 and 3\n",
            "number is not divisible by 2 and 3\n"
          ]
        }
      ]
    },
    {
      "cell_type": "code",
      "source": [
        "a=int(input('Enter a number:'))\n",
        "\n",
        "if a%2==0:\n",
        "  if a%3==0:\n",
        "    print('divisible by 2 and 3')\n",
        "  else:\n",
        "    print('divisible by 2 not by 3')\n",
        "else:\n",
        "  if a%3==0:\n",
        "    print('divisible by 3 not by 2')\n",
        "  else:\n",
        "    print('not divisible by 2 and 3')\n",
        "\n"
      ],
      "metadata": {
        "colab": {
          "base_uri": "https://localhost:8080/"
        },
        "id": "cYONyoliR0Hj",
        "outputId": "f9c479a8-19d9-4153-d3bf-63ec380f02a8"
      },
      "execution_count": null,
      "outputs": [
        {
          "output_type": "stream",
          "name": "stdout",
          "text": [
            "Enter a number:32\n",
            "divisible by 2 not by 3\n"
          ]
        }
      ]
    },
    {
      "cell_type": "code",
      "source": [
        "#grade calculator\n",
        "marks= int(input('Enter your marks='))\n",
        "\n",
        "if marks>=80:\n",
        "  print('Grade=A+')\n",
        "elif marks>=70:\n",
        "  print('Grade=A')\n",
        "elif marks>=60:\n",
        "  print('Grade=A-')\n",
        "elif marks>=50:\n",
        "  print('Grade=B')\n",
        "else:\n",
        "  print('Failed')"
      ],
      "metadata": {
        "colab": {
          "base_uri": "https://localhost:8080/"
        },
        "id": "26AKZYJ6UbW3",
        "outputId": "eb2c5222-2a6d-45a9-b4a6-6e380c15336d"
      },
      "execution_count": null,
      "outputs": [
        {
          "output_type": "stream",
          "name": "stdout",
          "text": [
            "Enter your marks=54\n",
            "Grade=B\n"
          ]
        }
      ]
    },
    {
      "cell_type": "markdown",
      "source": [
        "**Homework: Make a calculator**\n",
        "Take two number: a, b\n",
        "operator=input('Enter any operator:')\n",
        "if operator=='+'\n",
        "  print('sum=', a+b)\n",
        "elif ...\n",
        "elif ..."
      ],
      "metadata": {
        "id": "_LI4067gYgQV"
      }
    },
    {
      "cell_type": "code",
      "source": [
        "a=float(input('Enter first number='))\n",
        "b=float(input('Enter second number='))\n",
        "operator=input('Choose operator=')\n",
        "\n",
        "if operator=='+':\n",
        "  print('Summation of the two number is=', a+b)\n",
        "elif operator=='-':\n",
        "  print('Difference of the two number is=', a-b)\n",
        "elif operator=='*':\n",
        "  print('Product of the two number is=', a*b)\n",
        "elif operator=='/':\n",
        "  print('Quotient of the two number is=', a/b)\n",
        "elif operator=='**':\n",
        "  print('Exponent of the two number is=', a**b)\n"
      ],
      "metadata": {
        "colab": {
          "base_uri": "https://localhost:8080/"
        },
        "id": "kw6SQSdMagRB",
        "outputId": "964d9863-6150-4153-849d-bc8420dae825"
      },
      "execution_count": null,
      "outputs": [
        {
          "output_type": "stream",
          "name": "stdout",
          "text": [
            "Enter first number=3\n",
            "Enter second number=2\n",
            "Choose operator=**\n",
            "Exponent of the two number is= 9.0\n"
          ]
        }
      ]
    },
    {
      "cell_type": "markdown",
      "source": [
        "**Match case statement**\n",
        "\n",
        "fruit=input()\n",
        "match fruit:\n",
        "  case 'apple':\n",
        "    print('You have entered apple')\n",
        "  case 'orange':\n",
        "    print('You have entered orange')"
      ],
      "metadata": {
        "id": "MAlXDKDWLeRE"
      }
    },
    {
      "cell_type": "code",
      "source": [
        "#match case statement\n",
        "fruit=input('Enter name of the fruit:')\n",
        "\n",
        "def matc(fruit):\n",
        "  match fruit:\n",
        "    case 'apple':\n",
        "      return \"It's an apple\"\n",
        "    case 'orange':\n",
        "      return \"It's an orange\"\n",
        "    case 'banana':\n",
        "      return \"It's an banana\"\n",
        "    case 'cherry':\n",
        "      return \"It's an cherry\"\n",
        "matc(fruit)"
      ],
      "metadata": {
        "colab": {
          "base_uri": "https://localhost:8080/",
          "height": 53
        },
        "id": "12GDgcr3M3ar",
        "outputId": "49d61e90-a6eb-417b-9517-62f77fa7bec9"
      },
      "execution_count": null,
      "outputs": [
        {
          "name": "stdout",
          "output_type": "stream",
          "text": [
            "Enter name of the fruit:orange\n"
          ]
        },
        {
          "output_type": "execute_result",
          "data": {
            "text/plain": [
              "\"It's an orange\""
            ],
            "application/vnd.google.colaboratory.intrinsic+json": {
              "type": "string"
            }
          },
          "metadata": {},
          "execution_count": 4
        }
      ]
    },
    {
      "cell_type": "code",
      "source": [
        "fruit=int(input('Enter a number:'))\n",
        "\n",
        "def matc(fruit):\n",
        "  match fruit:\n",
        "    case 1:\n",
        "      return \"It's an apple\"\n",
        "    case 2:\n",
        "      return \"It's an orange\"\n",
        "    case 3:\n",
        "      return \"It's an banana\"\n",
        "    case 4:\n",
        "      return \"It's an cherry\"\n",
        "matc(fruit)"
      ],
      "metadata": {
        "colab": {
          "base_uri": "https://localhost:8080/",
          "height": 53
        },
        "id": "u9EynVF9RGLz",
        "outputId": "44f78e6c-929c-47cb-9dd8-44273244046e"
      },
      "execution_count": null,
      "outputs": [
        {
          "name": "stdout",
          "output_type": "stream",
          "text": [
            "Enter a number:1\n"
          ]
        },
        {
          "output_type": "execute_result",
          "data": {
            "text/plain": [
              "\"It's an apple\""
            ],
            "application/vnd.google.colaboratory.intrinsic+json": {
              "type": "string"
            }
          },
          "metadata": {},
          "execution_count": 7
        }
      ]
    },
    {
      "cell_type": "code",
      "source": [
        "def intr(details):\n",
        "   match details:\n",
        "      case [amt, duration] if amt<10000:\n",
        "         return amt*10*duration/100\n",
        "      case [amt, duration] if amt>=10000:\n",
        "         return amt*15*duration/100\n",
        "print (\"Interest = \", intr([5000,5]))\n",
        "print (\"Interest = \", intr([15000,3]))"
      ],
      "metadata": {
        "colab": {
          "base_uri": "https://localhost:8080/"
        },
        "id": "QN21wh3eUHkA",
        "outputId": "9c4daa7b-0495-4cee-ecab-4e8acf25522d"
      },
      "execution_count": null,
      "outputs": [
        {
          "output_type": "stream",
          "name": "stdout",
          "text": [
            "Interest =  2500.0\n",
            "Interest =  6750.0\n"
          ]
        }
      ]
    },
    {
      "cell_type": "markdown",
      "source": [
        "**Loop control statement: **\n",
        "1. for\n",
        "2. while\n"
      ],
      "metadata": {
        "id": "5JL7i3b1VzA5"
      }
    },
    {
      "cell_type": "code",
      "source": [
        "for i in range(5):\n",
        "  print('NACTAR')"
      ],
      "metadata": {
        "colab": {
          "base_uri": "https://localhost:8080/"
        },
        "id": "AUsvfltfWhmX",
        "outputId": "06638fe7-227f-48fb-f83b-45c049771df4"
      },
      "execution_count": null,
      "outputs": [
        {
          "output_type": "stream",
          "name": "stdout",
          "text": [
            "NACTAR\n",
            "NACTAR\n",
            "NACTAR\n",
            "NACTAR\n",
            "NACTAR\n"
          ]
        }
      ]
    },
    {
      "cell_type": "code",
      "source": [
        "for x in 'NACTAR':\n",
        "  print(x)"
      ],
      "metadata": {
        "colab": {
          "base_uri": "https://localhost:8080/"
        },
        "id": "TxvVODFUXIF9",
        "outputId": "84285401-0fdf-4c6e-f63d-f6a87f298e66"
      },
      "execution_count": null,
      "outputs": [
        {
          "output_type": "stream",
          "name": "stdout",
          "text": [
            "N\n",
            "A\n",
            "C\n",
            "T\n",
            "A\n",
            "R\n"
          ]
        }
      ]
    },
    {
      "cell_type": "code",
      "source": [
        "for x in range(5):\n",
        "  print(x)\n",
        "  print('NACTAR')"
      ],
      "metadata": {
        "colab": {
          "base_uri": "https://localhost:8080/"
        },
        "id": "fd2MxmAKXbaC",
        "outputId": "93a4a4a4-892c-467c-c236-2f86d9a41f11"
      },
      "execution_count": null,
      "outputs": [
        {
          "output_type": "stream",
          "name": "stdout",
          "text": [
            "0\n",
            "NACTAR\n",
            "1\n",
            "NACTAR\n",
            "2\n",
            "NACTAR\n",
            "3\n",
            "NACTAR\n",
            "4\n",
            "NACTAR\n"
          ]
        }
      ]
    },
    {
      "cell_type": "code",
      "source": [
        "#even numbers\n",
        "for i in range(0, 10, 2):\n",
        "  print(i)\n"
      ],
      "metadata": {
        "colab": {
          "base_uri": "https://localhost:8080/"
        },
        "id": "PAYTCt2IY2Al",
        "outputId": "80d5ed5f-c48d-4208-fc78-17ed6238856e"
      },
      "execution_count": null,
      "outputs": [
        {
          "output_type": "stream",
          "name": "stdout",
          "text": [
            "0\n",
            "2\n",
            "4\n",
            "6\n",
            "8\n"
          ]
        }
      ]
    },
    {
      "cell_type": "code",
      "source": [
        "#odd numbers\n",
        "for i in range(1, 10, 2):\n",
        "  print(i)"
      ],
      "metadata": {
        "colab": {
          "base_uri": "https://localhost:8080/"
        },
        "id": "xE5_LaBfZNKk",
        "outputId": "e2ad0512-bd83-45a5-fc11-f30ed79cf211"
      },
      "execution_count": null,
      "outputs": [
        {
          "output_type": "stream",
          "name": "stdout",
          "text": [
            "1\n",
            "3\n",
            "5\n",
            "7\n",
            "9\n"
          ]
        }
      ]
    },
    {
      "cell_type": "code",
      "source": [
        "#cumulative summation\n",
        "\n",
        "numbers=(10,20,30,40,50)\n",
        "total=0\n",
        "for num in numbers:\n",
        "  total+=num #total=total+num\n",
        "  print(\"Cumulative summation for this loop is\", total)\n",
        "print('Total=', total)"
      ],
      "metadata": {
        "colab": {
          "base_uri": "https://localhost:8080/"
        },
        "id": "Nu0qJwT4ZSDw",
        "outputId": "320fc9dc-6a3b-4f36-c578-b6d157bf4e99"
      },
      "execution_count": null,
      "outputs": [
        {
          "output_type": "stream",
          "name": "stdout",
          "text": [
            "Cumulative summation for this loop is 10\n",
            "Cumulative summation for this loop is 30\n",
            "Cumulative summation for this loop is 60\n",
            "Cumulative summation for this loop is 100\n",
            "Cumulative summation for this loop is 150\n",
            "Total= 150\n"
          ]
        }
      ]
    },
    {
      "cell_type": "markdown",
      "source": [
        "for else,\n",
        "while loop,\n",
        "break statement,\n",
        "continue statement,\n",
        "pass statement"
      ],
      "metadata": {
        "id": "ZFF5cs5qTCdJ"
      }
    },
    {
      "cell_type": "code",
      "source": [
        "#for else\n",
        "for i in range(5):\n",
        "  print(i)\n",
        "else:\n",
        "  print(\"Loop is executed\")"
      ],
      "metadata": {
        "colab": {
          "base_uri": "https://localhost:8080/"
        },
        "id": "gO9DEUTXTIGR",
        "outputId": "faf8afc9-5194-4109-85ea-2f3c2460e1e8"
      },
      "execution_count": null,
      "outputs": [
        {
          "output_type": "stream",
          "name": "stdout",
          "text": [
            "0\n",
            "1\n",
            "2\n",
            "3\n",
            "4\n",
            "Loop is executed\n"
          ]
        }
      ]
    },
    {
      "cell_type": "markdown",
      "source": [
        "While loop\n",
        "Intialization\n",
        "while condition:\n",
        "  statement;\n",
        "  increment/decrement value"
      ],
      "metadata": {
        "id": "MQ4WhlVvUIER"
      }
    },
    {
      "cell_type": "code",
      "source": [
        "#while loop\n",
        "s=\"NACTAR\"\n",
        "i=1 #initialization\n",
        "\n",
        "while i<6:\n",
        "  print(\"Value of i=\", i)\n",
        "  print(s)\n",
        "  i+=1 #increment operator"
      ],
      "metadata": {
        "colab": {
          "base_uri": "https://localhost:8080/"
        },
        "id": "h4h0hkBVUDg-",
        "outputId": "843bec35-86c8-4ce2-9790-f8803e2ce8d6"
      },
      "execution_count": null,
      "outputs": [
        {
          "output_type": "stream",
          "name": "stdout",
          "text": [
            "Value of i= 1\n",
            "NACTAR\n",
            "Value of i= 2\n",
            "NACTAR\n",
            "Value of i= 3\n",
            "NACTAR\n",
            "Value of i= 4\n",
            "NACTAR\n",
            "Value of i= 5\n",
            "NACTAR\n"
          ]
        }
      ]
    },
    {
      "cell_type": "code",
      "source": [
        "#odd numbers\n",
        "i=1\n",
        "while i<10:\n",
        "  print(i, end=\" \") #end: to print in same line\n",
        "  i+=2\n"
      ],
      "metadata": {
        "colab": {
          "base_uri": "https://localhost:8080/"
        },
        "id": "iO2ylv02X6ay",
        "outputId": "0565acab-71a3-47d5-a4fc-26ebf683afb3"
      },
      "execution_count": null,
      "outputs": [
        {
          "output_type": "stream",
          "name": "stdout",
          "text": [
            "1 3 5 7 9 "
          ]
        }
      ]
    },
    {
      "cell_type": "code",
      "source": [
        "#multiplication of 3\n",
        "num=3\n",
        "i=1\n",
        "while i<11:\n",
        "  print(num, \"X\", i, \"=\", num*i)\n",
        "  i+=1"
      ],
      "metadata": {
        "colab": {
          "base_uri": "https://localhost:8080/"
        },
        "id": "zhQDR42lZUCH",
        "outputId": "94003984-ec40-4b5a-ce6a-aba42e5f3355"
      },
      "execution_count": null,
      "outputs": [
        {
          "output_type": "stream",
          "name": "stdout",
          "text": [
            "3 X 1 = 3\n",
            "3 X 2 = 6\n",
            "3 X 3 = 9\n",
            "3 X 4 = 12\n",
            "3 X 5 = 15\n",
            "3 X 6 = 18\n",
            "3 X 7 = 21\n",
            "3 X 8 = 24\n",
            "3 X 9 = 27\n",
            "3 X 10 = 30\n"
          ]
        }
      ]
    },
    {
      "cell_type": "code",
      "source": [
        "#a-z\n",
        "i=65\n",
        "while i<91:\n",
        "  print(chr(i), end=\" \")\n",
        "  i+=1"
      ],
      "metadata": {
        "colab": {
          "base_uri": "https://localhost:8080/"
        },
        "id": "6ywGfPMXbl_S",
        "outputId": "b25283ff-9288-4d59-ce76-fb64966689ab"
      },
      "execution_count": null,
      "outputs": [
        {
          "output_type": "stream",
          "name": "stdout",
          "text": [
            "A B C D E F G H I J K L M N O P Q R S T U V W X Y Z "
          ]
        }
      ]
    },
    {
      "cell_type": "code",
      "source": [
        "#break\n",
        "i=1\n",
        "while i<10:\n",
        "  print(i)\n",
        "  if i==5:\n",
        "    break\n",
        "  i+=1\n",
        "print(\"Outside the loop\")"
      ],
      "metadata": {
        "colab": {
          "base_uri": "https://localhost:8080/"
        },
        "id": "XBnuJNHBeVTv",
        "outputId": "d48126c3-893a-4c81-f871-67881cd41c62"
      },
      "execution_count": null,
      "outputs": [
        {
          "output_type": "stream",
          "name": "stdout",
          "text": [
            "1\n",
            "2\n",
            "3\n",
            "4\n",
            "5\n"
          ]
        }
      ]
    },
    {
      "cell_type": "code",
      "source": [
        "#continue\n",
        "i=0\n",
        "while i<10:\n",
        "  i+=1\n",
        "  if i==5:\n",
        "    continue #breaks and continue the loop, here skips when i=5\n",
        "  print(i)\n",
        "\n",
        "print(\"Outside the loop\")"
      ],
      "metadata": {
        "colab": {
          "base_uri": "https://localhost:8080/"
        },
        "id": "T5SQT9S0gPa9",
        "outputId": "ac6d2f33-0b8a-4224-99a9-fab274a8ffea"
      },
      "execution_count": null,
      "outputs": [
        {
          "output_type": "stream",
          "name": "stdout",
          "text": [
            "1\n",
            "2\n",
            "3\n",
            "4\n",
            "6\n",
            "7\n",
            "8\n",
            "9\n",
            "10\n",
            "Outside the loop\n"
          ]
        }
      ]
    },
    {
      "cell_type": "code",
      "source": [
        "months=[\"jan\", \"feb\", \"mar\"]\n",
        "days=[\"sun\", \"mon\", \"tue\"]\n",
        "\n",
        "for x in months:\n",
        "  for y in days:\n",
        "    print(x,y)"
      ],
      "metadata": {
        "colab": {
          "base_uri": "https://localhost:8080/"
        },
        "id": "yB_8qqGdjCMt",
        "outputId": "b3914222-6f2c-4d0f-e91d-50930f0c19ee"
      },
      "execution_count": null,
      "outputs": [
        {
          "output_type": "stream",
          "name": "stdout",
          "text": [
            "jan sun\n",
            "jan mon\n",
            "jan tue\n",
            "feb sun\n",
            "feb mon\n",
            "feb tue\n",
            "mar sun\n",
            "mar mon\n",
            "mar tue\n"
          ]
        }
      ]
    },
    {
      "cell_type": "code",
      "source": [
        "months = [\"jan\", \"feb\", \"mar\"]\n",
        "days = [\"sun\", \"mon\", \"tue\"]\n",
        "\n",
        "# Initialize index variables\n",
        "i = 0\n",
        "while i < len(months):\n",
        "    j = 0\n",
        "    while j < len(days):\n",
        "        print(months[i], days[j])\n",
        "        j += 1  # Increment the day index\n",
        "    i += 1  # Increment the month index"
      ],
      "metadata": {
        "colab": {
          "base_uri": "https://localhost:8080/"
        },
        "id": "sPj56reZlC0j",
        "outputId": "c2e72b80-f937-4263-ea8b-affcb24f2fb2"
      },
      "execution_count": null,
      "outputs": [
        {
          "output_type": "stream",
          "name": "stdout",
          "text": [
            "jan sun\n",
            "jan mon\n",
            "jan tue\n",
            "feb sun\n",
            "feb mon\n",
            "feb tue\n",
            "mar sun\n",
            "mar mon\n",
            "mar tue\n"
          ]
        }
      ]
    },
    {
      "cell_type": "code",
      "source": [
        "months = [\"Jan\", \"Feb\", \"Mar\"]\n",
        "days = [\"Sun\", \"Mon\", \"Tue\"]\n",
        "i=j=0\n",
        "while i<len(months):\n",
        "  while j<len(days):\n",
        "    print(months[i], days[j])\n",
        "    j+= 1\n",
        "  i+=1\n",
        "  j=0"
      ],
      "metadata": {
        "colab": {
          "base_uri": "https://localhost:8080/"
        },
        "id": "RmVqnLsMmR2r",
        "outputId": "4ed3e046-8a0e-4a74-ad9c-b502ca459184"
      },
      "execution_count": null,
      "outputs": [
        {
          "output_type": "stream",
          "name": "stdout",
          "text": [
            "Jan Sun\n",
            "Jan Mon\n",
            "Jan Tue\n",
            "Feb Sun\n",
            "Feb Mon\n",
            "Feb Tue\n",
            "Mar Sun\n",
            "Mar Mon\n",
            "Mar Tue\n"
          ]
        }
      ]
    },
    {
      "cell_type": "code",
      "source": [
        "#pass statement\n",
        "\n",
        "for i in range(10):\n",
        "  pass #otherwise would show error"
      ],
      "metadata": {
        "id": "heuhuoEgo6_d"
      },
      "execution_count": null,
      "outputs": []
    },
    {
      "cell_type": "code",
      "source": [
        "for letter in \"Python\":\n",
        "  if letter==\"h\":\n",
        "    pass\n",
        "    print(\"This is pass block\")\n",
        "  print(\"Current letter:\", letter)"
      ],
      "metadata": {
        "colab": {
          "base_uri": "https://localhost:8080/"
        },
        "id": "PlEOAkepp1AL",
        "outputId": "024dd606-0cf0-4f37-8f56-fc1351f594d2"
      },
      "execution_count": null,
      "outputs": [
        {
          "output_type": "stream",
          "name": "stdout",
          "text": [
            "Current letter: P\n",
            "Current letter: y\n",
            "Current letter: t\n",
            "This is pass block\n",
            "Current letter: h\n",
            "Current letter: o\n",
            "Current letter: n\n"
          ]
        }
      ]
    },
    {
      "cell_type": "code",
      "source": [
        "#password using while loop\n",
        "correct_pass= \"Python123\"\n",
        "enter_pass= input(\"Enter your password:\")\n",
        "\n",
        "while enter_pass!=correct_pass:\n",
        "  print(\"Incorrect password, try again!\")\n",
        "  enter_pass= input(\"Enter your password:\")\n",
        "print(\"Access granted!\")\n"
      ],
      "metadata": {
        "colab": {
          "base_uri": "https://localhost:8080/"
        },
        "id": "Nj92EPfZ56jQ",
        "outputId": "4d7e05fa-ef57-446d-cc43-2c480240a257"
      },
      "execution_count": null,
      "outputs": [
        {
          "output_type": "stream",
          "name": "stdout",
          "text": [
            "Enter your password:wgwgew\n",
            "Incorrect password, try again!\n",
            "Enter your password:Python123\n",
            "Access granted!\n"
          ]
        }
      ]
    },
    {
      "cell_type": "markdown",
      "source": [],
      "metadata": {
        "id": "_21Z9p82sN4r"
      }
    },
    {
      "cell_type": "markdown",
      "source": [
        "**Function:**\n",
        "Block of code dedicated for specific task and can be reused.\n",
        "Function can be of 3 types:\n",
        "1. **Built-in function:** built-in in python\n",
        "2. **Module based function:** by third-party, needs to be installed\n",
        "3. **User defined function:** constructed by the user"
      ],
      "metadata": {
        "id": "SmVeYlXcsN7F"
      }
    },
    {
      "cell_type": "code",
      "source": [
        "#display built-in functions\n",
        "built_in_func=dir(__builtins__)\n",
        "print(built_in_func)"
      ],
      "metadata": {
        "colab": {
          "base_uri": "https://localhost:8080/"
        },
        "id": "RczKHg-Swp2p",
        "outputId": "bf86e3ff-6ac5-4c35-a3b0-336450ca763b"
      },
      "execution_count": null,
      "outputs": [
        {
          "output_type": "stream",
          "name": "stdout",
          "text": [
            "['ArithmeticError', 'AssertionError', 'AttributeError', 'BaseException', 'BaseExceptionGroup', 'BlockingIOError', 'BrokenPipeError', 'BufferError', 'BytesWarning', 'ChildProcessError', 'ConnectionAbortedError', 'ConnectionError', 'ConnectionRefusedError', 'ConnectionResetError', 'DeprecationWarning', 'EOFError', 'Ellipsis', 'EncodingWarning', 'EnvironmentError', 'Exception', 'ExceptionGroup', 'False', 'FileExistsError', 'FileNotFoundError', 'FloatingPointError', 'FutureWarning', 'GeneratorExit', 'IOError', 'ImportError', 'ImportWarning', 'IndentationError', 'IndexError', 'InterruptedError', 'IsADirectoryError', 'KeyError', 'KeyboardInterrupt', 'LookupError', 'MemoryError', 'ModuleNotFoundError', 'NameError', 'None', 'NotADirectoryError', 'NotImplemented', 'NotImplementedError', 'OSError', 'OverflowError', 'PendingDeprecationWarning', 'PermissionError', 'ProcessLookupError', 'RecursionError', 'ReferenceError', 'ResourceWarning', 'RuntimeError', 'RuntimeWarning', 'StopAsyncIteration', 'StopIteration', 'SyntaxError', 'SyntaxWarning', 'SystemError', 'SystemExit', 'TabError', 'TimeoutError', 'True', 'TypeError', 'UnboundLocalError', 'UnicodeDecodeError', 'UnicodeEncodeError', 'UnicodeError', 'UnicodeTranslateError', 'UnicodeWarning', 'UserWarning', 'ValueError', 'Warning', 'ZeroDivisionError', '__IPYTHON__', '__build_class__', '__debug__', '__doc__', '__import__', '__loader__', '__name__', '__package__', '__pybind11_internals_v4_gcc_libstdcpp_cxxabi1014__', '__spec__', 'abs', 'aiter', 'all', 'anext', 'any', 'ascii', 'bin', 'bool', 'breakpoint', 'bytearray', 'bytes', 'callable', 'chr', 'classmethod', 'compile', 'complex', 'copyright', 'credits', 'delattr', 'dict', 'dir', 'display', 'divmod', 'enumerate', 'eval', 'exec', 'execfile', 'filter', 'float', 'format', 'frozenset', 'get_ipython', 'getattr', 'globals', 'hasattr', 'hash', 'help', 'hex', 'id', 'input', 'int', 'isinstance', 'issubclass', 'iter', 'len', 'license', 'list', 'locals', 'map', 'max', 'memoryview', 'min', 'next', 'object', 'oct', 'open', 'ord', 'pow', 'print', 'property', 'range', 'repr', 'reversed', 'round', 'runfile', 'set', 'setattr', 'slice', 'sorted', 'staticmethod', 'str', 'sum', 'super', 'tuple', 'type', 'vars', 'zip']\n"
          ]
        }
      ]
    },
    {
      "cell_type": "code",
      "source": [
        "numbers=[12,14,45,67]\n",
        "print(len(numbers))\n",
        "print('Minimum number=', min(numbers))\n",
        "print('Summation=', sum(numbers))"
      ],
      "metadata": {
        "colab": {
          "base_uri": "https://localhost:8080/"
        },
        "id": "6qE8hTMTxbQH",
        "outputId": "b6c24eef-d1a4-44a6-f051-da7fd6ad46aa"
      },
      "execution_count": null,
      "outputs": [
        {
          "output_type": "stream",
          "name": "stdout",
          "text": [
            "4\n",
            "Minimum number= 12\n",
            "Summation= 138\n"
          ]
        }
      ]
    },
    {
      "cell_type": "code",
      "source": [
        "#creating function\n",
        "def my_function(): #defining function with def\n",
        "  print(\"This is my first function\")\n",
        "my_function() #calling function"
      ],
      "metadata": {
        "colab": {
          "base_uri": "https://localhost:8080/"
        },
        "id": "aC7tPgTXyNGO",
        "outputId": "2e257344-50da-43b1-b54b-02e4f11cd9a6"
      },
      "execution_count": null,
      "outputs": [
        {
          "output_type": "stream",
          "name": "stdout",
          "text": [
            "This is my first function\n"
          ]
        }
      ]
    },
    {
      "cell_type": "code",
      "source": [
        "#another\n",
        "def multiply(a,b): #here a and b are arguement\n",
        "  c=a*b\n",
        "  return c\n",
        "print(multiply(2,3))"
      ],
      "metadata": {
        "colab": {
          "base_uri": "https://localhost:8080/"
        },
        "id": "b_9dcoaAzzKK",
        "outputId": "dcf3fec0-94fb-4263-f522-7c2ad6092a50"
      },
      "execution_count": null,
      "outputs": [
        {
          "output_type": "stream",
          "name": "stdout",
          "text": [
            "6\n"
          ]
        }
      ]
    },
    {
      "cell_type": "code",
      "source": [
        "def my_function(course, inst):\n",
        "  print(\"This is my first function\")\n",
        "  print(\"I am learning\", course, \"at\", inst)\n",
        "my_function(\"MLDS\", \"NACTAR\")"
      ],
      "metadata": {
        "colab": {
          "base_uri": "https://localhost:8080/"
        },
        "id": "T2FPCzcU29Fp",
        "outputId": "86e74017-b271-4779-d4be-c7c0a7ce19f8"
      },
      "execution_count": null,
      "outputs": [
        {
          "output_type": "stream",
          "name": "stdout",
          "text": [
            "This is my first function\n",
            "I am learning MLDS at NACTAR\n"
          ]
        }
      ]
    },
    {
      "cell_type": "code",
      "source": [
        "def my_function(course=\"MLDS\", inst=\"NACTAR\"):\n",
        "  print(\"This is my first function\")\n",
        "  print(\"I am learning\", course, \"at\", inst)\n",
        "my_function()"
      ],
      "metadata": {
        "colab": {
          "base_uri": "https://localhost:8080/"
        },
        "id": "KEtysxDG7ZWG",
        "outputId": "34fd0152-aa82-4a6a-d7da-696e90d13100"
      },
      "execution_count": null,
      "outputs": [
        {
          "output_type": "stream",
          "name": "stdout",
          "text": [
            "This is my first function\n",
            "I am learning MLDS at NACTAR\n"
          ]
        }
      ]
    },
    {
      "cell_type": "code",
      "source": [
        "def percent(phy, math, maxmarks=200):\n",
        "  val=(phy+math)*100/maxmarks\n",
        "  return val\n",
        "\n",
        "phy=60\n",
        "math=70\n",
        "result=percent(phy, math)\n",
        "\n",
        "phy=40\n",
        "math=47\n",
        "result1=percent(phy, math, 100) #substitutes the earlier value for maxmarks\n",
        "\n",
        "print(result)\n",
        "print(result1)"
      ],
      "metadata": {
        "colab": {
          "base_uri": "https://localhost:8080/"
        },
        "id": "g5wx-NVc-Pfb",
        "outputId": "626cdc61-b0dc-401e-e45e-4bb011ddc194"
      },
      "execution_count": null,
      "outputs": [
        {
          "output_type": "stream",
          "name": "stdout",
          "text": [
            "65.0\n",
            "87.0\n"
          ]
        }
      ]
    },
    {
      "cell_type": "code",
      "source": [
        "def function(a,b,c):\n",
        "function(12,4,3) #positional arguement\n",
        "function(a=12, b=4, c=3) #keyword arguement"
      ],
      "metadata": {
        "id": "_hyolIscFExH"
      },
      "execution_count": null,
      "outputs": []
    },
    {
      "cell_type": "code",
      "source": [
        "#converting to keyword arguement\n",
        "def add(*,a,b): #(*) makes the next all keyword arguement\n",
        "  sum=a+b\n",
        "  return sum\n",
        "print(add(a=10,b=20))\n",
        "\n",
        "def add(a,*,b): #(*) makes the next all keyword arguement\n",
        "  sum=a+b\n",
        "  return sum\n",
        "print(add(10,b=20))"
      ],
      "metadata": {
        "colab": {
          "base_uri": "https://localhost:8080/"
        },
        "id": "OWxN6wApGDjK",
        "outputId": "036bd7f4-866b-4232-fbf1-289935a9e381"
      },
      "execution_count": null,
      "outputs": [
        {
          "output_type": "stream",
          "name": "stdout",
          "text": [
            "30\n",
            "30\n"
          ]
        }
      ]
    },
    {
      "cell_type": "code",
      "source": [
        "#converting to positional arguement\n",
        "def add(a,b,/): #(/) only accepts positional arguement before it\n",
        "  sum=a+b\n",
        "  return sum\n",
        "print(add(10,20))\n",
        "\n",
        "def add(a,/,b):\n",
        "  sum=a+b\n",
        "  return sum\n",
        "print(add(10,b=20))"
      ],
      "metadata": {
        "colab": {
          "base_uri": "https://localhost:8080/"
        },
        "id": "tTRCom9ZJvDn",
        "outputId": "20c48f7a-f9a2-47cc-9ca2-f3aba93ac2c8"
      },
      "execution_count": null,
      "outputs": [
        {
          "output_type": "stream",
          "name": "stdout",
          "text": [
            "30\n",
            "30\n"
          ]
        }
      ]
    },
    {
      "cell_type": "code",
      "source": [
        "def add(*a):\n",
        "  sum=0\n",
        "  for i in a:\n",
        "    sum=sum+i\n",
        "  return sum\n",
        "print(add(10,34,45,39))"
      ],
      "metadata": {
        "colab": {
          "base_uri": "https://localhost:8080/"
        },
        "id": "-B-_TTQIMqiw",
        "outputId": "b019b516-95ab-4149-afcb-2e24e643982e"
      },
      "execution_count": null,
      "outputs": [
        {
          "output_type": "stream",
          "name": "stdout",
          "text": [
            "128\n"
          ]
        }
      ]
    },
    {
      "cell_type": "code",
      "source": [
        "def  ttt(*a): #can take multiple arguement\n",
        "  print(\"First name=\", a[0])\n",
        "ttt(\"Pronab\", \"Das\", \"Shaikat\")"
      ],
      "metadata": {
        "colab": {
          "base_uri": "https://localhost:8080/"
        },
        "id": "p30ghsoLNzm2",
        "outputId": "b54daf2b-ec6c-4a47-f30e-174fb9936860"
      },
      "execution_count": null,
      "outputs": [
        {
          "output_type": "stream",
          "name": "stdout",
          "text": [
            "First name= Pronab\n"
          ]
        }
      ]
    },
    {
      "cell_type": "code",
      "source": [
        "#Lambda function\n",
        "#can execute only one expression\n",
        "a= lambda x:x+10\n",
        "print(a(10))\n",
        "\n",
        "x= lambda a,b:a+b\n",
        "print(x(10,20))"
      ],
      "metadata": {
        "colab": {
          "base_uri": "https://localhost:8080/"
        },
        "id": "Pup97zL-Q5ZF",
        "outputId": "9a597d08-77c5-4c1f-8ec7-2e72c88bce91"
      },
      "execution_count": null,
      "outputs": [
        {
          "output_type": "stream",
          "name": "stdout",
          "text": [
            "20\n",
            "30\n"
          ]
        }
      ]
    },
    {
      "cell_type": "code",
      "source": [
        "def myfunc(n):\n",
        "  return lambda a:a*n\n",
        "mydoubler=myfunc(2)\n",
        "print(mydoubler(10))\n",
        "\n",
        "x=lambda a:a*2\n",
        "print(x(10))"
      ],
      "metadata": {
        "colab": {
          "base_uri": "https://localhost:8080/"
        },
        "id": "BPvD7SpzT3fB",
        "outputId": "ce1ab8e3-531e-459a-e9f3-9e81ca02b4d4"
      },
      "execution_count": null,
      "outputs": [
        {
          "output_type": "stream",
          "name": "stdout",
          "text": [
            "20\n",
            "20\n"
          ]
        }
      ]
    },
    {
      "cell_type": "markdown",
      "source": [
        "List item"
      ],
      "metadata": {
        "id": "k-SbwhLeZ41f"
      }
    },
    {
      "cell_type": "code",
      "source": [
        "list=[1,2,3,4,5,\"Pronab\",2.5,\"10\"]\n",
        "print(list)\n",
        "#slicing\n",
        "print('My name is', list[5])\n",
        "print(list[-1]) #prints last index\n",
        "print(list[2:4]) #prints 2nd,3rd index\n",
        "print(list[:4])\n",
        "print(list[4:])"
      ],
      "metadata": {
        "colab": {
          "base_uri": "https://localhost:8080/"
        },
        "id": "_poSmP2lalAa",
        "outputId": "e28fac52-ebda-4ed0-f340-073447fd2b99"
      },
      "execution_count": null,
      "outputs": [
        {
          "output_type": "stream",
          "name": "stdout",
          "text": [
            "[1, 2, 3, 4, 5, 'Pronab', 2.5, '10']\n",
            "My name is Pronab\n",
            "10\n",
            "[3, 4]\n",
            "[1, 2, 3, 4]\n",
            "[5, 'Pronab', 2.5, '10']\n"
          ]
        }
      ]
    },
    {
      "cell_type": "code",
      "source": [
        "#changing elements\n",
        "list=[1,2,3,4,5,\"Pronab\",2.5,\"10\"]\n",
        "list[5]=\"Shaikat\"\n",
        "print(list)\n",
        "\n",
        "list[1:3]=[10,20]\n",
        "print(list)"
      ],
      "metadata": {
        "colab": {
          "base_uri": "https://localhost:8080/"
        },
        "id": "S-3OkQlWcqmg",
        "outputId": "9aaf9457-e2f2-400e-baaa-968067a09e81"
      },
      "execution_count": null,
      "outputs": [
        {
          "output_type": "stream",
          "name": "stdout",
          "text": [
            "[1, 2, 3, 4, 5, 'Shaikat', 2.5, '10']\n",
            "[1, 10, 20, 4, 5, 'Shaikat', 2.5, '10']\n"
          ]
        }
      ]
    },
    {
      "cell_type": "code",
      "source": [
        "#append\n",
        "list=[1,2,3,4,5,\"Pronab\",2.5,\"10\"]\n",
        "print(list)\n",
        "list.append(100)\n",
        "print(list)"
      ],
      "metadata": {
        "colab": {
          "base_uri": "https://localhost:8080/"
        },
        "id": "RlhgIbKmem6P",
        "outputId": "c76843db-47ec-45fb-ae78-52f0ccd4909f"
      },
      "execution_count": null,
      "outputs": [
        {
          "output_type": "stream",
          "name": "stdout",
          "text": [
            "[1, 2, 3, 4, 5, 'Pronab', 2.5, '10']\n",
            "[1, 2, 3, 4, 5, 'Pronab', 2.5, '10', 100]\n"
          ]
        }
      ]
    },
    {
      "cell_type": "code",
      "source": [
        "#extend\n",
        "lst=[1,2,3,4,5,\"Pronab\",2.5,\"10\"]\n",
        "lst2=[\"a\", \"b\", \"c\", \"d\"]\n",
        "lst.extend(lst2)\n",
        "print(lst)"
      ],
      "metadata": {
        "colab": {
          "base_uri": "https://localhost:8080/"
        },
        "id": "h7daohsMfYFx",
        "outputId": "a34d7f91-ae40-4228-bc9e-13165707c6ad"
      },
      "execution_count": null,
      "outputs": [
        {
          "output_type": "stream",
          "name": "stdout",
          "text": [
            "[1, 2, 3, 4, 5, 'Pronab', 2.5, '10', 'a', 'b', 'c', 'd']\n"
          ]
        }
      ]
    },
    {
      "cell_type": "code",
      "source": [
        "#insert\n",
        "lst=[1,2,3,4,5,\"Pronab\",2.5,\"10\"]\n",
        "lst.insert(2,56) #56 inserted into 2nd position\n",
        "print(lst)"
      ],
      "metadata": {
        "colab": {
          "base_uri": "https://localhost:8080/"
        },
        "id": "s_8E3Rjpf_eb",
        "outputId": "1158f4fc-23d4-415d-8be4-b10c01ac5d18"
      },
      "execution_count": null,
      "outputs": [
        {
          "output_type": "stream",
          "name": "stdout",
          "text": [
            "[1, 2, 56, 3, 4, 5, 'Pronab', 2.5, '10']\n"
          ]
        }
      ]
    },
    {
      "cell_type": "code",
      "source": [
        "#remove\n",
        "lst=[1,2,3,4,5,\"Pronab\",2.5,\"10\"]\n",
        "lst.remove(2) #based on value not index\n",
        "print(lst)"
      ],
      "metadata": {
        "colab": {
          "base_uri": "https://localhost:8080/"
        },
        "id": "eUFjIJ2UgXOw",
        "outputId": "4714f940-ee4e-4dd5-8c18-33b9532d0455"
      },
      "execution_count": null,
      "outputs": [
        {
          "output_type": "stream",
          "name": "stdout",
          "text": [
            "[1, 3, 4, 5, 'Pronab', 2.5, '10']\n"
          ]
        }
      ]
    },
    {
      "cell_type": "code",
      "source": [
        "#pop\n",
        "lst=[1,2,3,4,5,\"Pronab\",2.5,\"10\"]lst=[1,2,3,4,5,\"Pronab\",2.5,\"10\"]\n",
        "lst.pop() #removes last one\n",
        "print(lst)\n",
        "lst.pop(1) #removes 2nd index\n",
        "print(lst)"
      ],
      "metadata": {
        "colab": {
          "base_uri": "https://localhost:8080/"
        },
        "id": "FXr4di-Gg9cf",
        "outputId": "22c17f7d-fc76-425c-f019-d662253d5e65"
      },
      "execution_count": null,
      "outputs": [
        {
          "output_type": "stream",
          "name": "stdout",
          "text": [
            "[1, 2, 3, 4, 5, 'Pronab', 2.5]\n",
            "[1, 3, 4, 5, 'Pronab', 2.5]\n"
          ]
        }
      ]
    },
    {
      "cell_type": "code",
      "source": [
        "#index\n",
        "lst=[1,2,3,4,5,\"Pronab\",2.5,\"10\"]\n",
        "print(lst.index(3)) #index of value"
      ],
      "metadata": {
        "colab": {
          "base_uri": "https://localhost:8080/"
        },
        "id": "hC_Ch-j2ieBt",
        "outputId": "9f5403ce-7afe-4610-bafd-e7e74b274c9e"
      },
      "execution_count": null,
      "outputs": [
        {
          "output_type": "stream",
          "name": "stdout",
          "text": [
            "2\n"
          ]
        }
      ]
    },
    {
      "cell_type": "code",
      "source": [
        "#count\n",
        "lst=[1,2,3,4,5,\"Pronab\",2.5,\"10\",2,2]\n",
        "print(lst.count(2))"
      ],
      "metadata": {
        "colab": {
          "base_uri": "https://localhost:8080/"
        },
        "id": "6XEa8eOpiyWu",
        "outputId": "f1e7820a-7844-4f7f-8d1e-92b90fb25bde"
      },
      "execution_count": null,
      "outputs": [
        {
          "output_type": "stream",
          "name": "stdout",
          "text": [
            "3\n"
          ]
        }
      ]
    },
    {
      "cell_type": "code",
      "source": [
        "#sorting\n",
        "lst=[23,545,23,556,23,56,7,2]\n",
        "lst.sort() #ascending order\n",
        "print(lst)\n",
        "lst.sort(reverse=True)\n",
        "print(lst) #descending order"
      ],
      "metadata": {
        "colab": {
          "base_uri": "https://localhost:8080/"
        },
        "id": "V53Lg3PvjD3O",
        "outputId": "dc37d7d6-d6a4-432d-e035-725926ad0d83"
      },
      "execution_count": null,
      "outputs": [
        {
          "output_type": "stream",
          "name": "stdout",
          "text": [
            "[2, 7, 23, 23, 23, 56, 545, 556]\n",
            "[556, 545, 56, 23, 23, 23, 7, 2]\n"
          ]
        }
      ]
    },
    {
      "cell_type": "code",
      "source": [
        "#reverse\n",
        "lst=[23,545,23,556,23,56,7,2]\n",
        "lst.reverse()\n",
        "print(lst)"
      ],
      "metadata": {
        "colab": {
          "base_uri": "https://localhost:8080/"
        },
        "id": "x3GVg4bEjhJ1",
        "outputId": "be03c108-faab-4ba6-e58f-d6790d326baa"
      },
      "execution_count": null,
      "outputs": [
        {
          "output_type": "stream",
          "name": "stdout",
          "text": [
            "[2, 7, 56, 23, 556, 23, 545, 23]\n"
          ]
        }
      ]
    },
    {
      "cell_type": "code",
      "source": [
        "#clear\n",
        "lst=[23,545,23,556,23,56,7,2]\n",
        "lst.clear()\n",
        "print(lst)"
      ],
      "metadata": {
        "colab": {
          "base_uri": "https://localhost:8080/"
        },
        "id": "ocBdtsgBjvk4",
        "outputId": "d4e0dde2-96a2-4383-f604-41fdfe56e04f"
      },
      "execution_count": null,
      "outputs": [
        {
          "output_type": "stream",
          "name": "stdout",
          "text": [
            "[]\n"
          ]
        }
      ]
    },
    {
      "cell_type": "code",
      "source": [
        "#copy\n",
        "lst=[23,545,23,556,23,56,7,2]\n",
        "lst2=lst.copy()\n",
        "print(lst2)"
      ],
      "metadata": {
        "colab": {
          "base_uri": "https://localhost:8080/"
        },
        "id": "rotjJSqAj2AR",
        "outputId": "1148ebfb-f0f8-4797-b3c8-d4911a72b109"
      },
      "execution_count": null,
      "outputs": [
        {
          "output_type": "stream",
          "name": "stdout",
          "text": [
            "[23, 545, 23, 556, 23, 56, 7, 2]\n"
          ]
        }
      ]
    },
    {
      "cell_type": "markdown",
      "source": [
        "Home Work: Use dir(set) and perform the functions"
      ],
      "metadata": {
        "id": "PKSVwV6YlCXL"
      }
    },
    {
      "cell_type": "markdown",
      "source": [
        "Set"
      ],
      "metadata": {
        "id": "Gk9R_QRYBO-v"
      }
    },
    {
      "cell_type": "code",
      "source": [
        "#add\n",
        "set1={1,2,3,4}\n",
        "print(type(set1))\n",
        "set1.add(5) #only takes one arguement\n",
        "print(set1)"
      ],
      "metadata": {
        "colab": {
          "base_uri": "https://localhost:8080/"
        },
        "id": "N0srSJpXGbR5",
        "outputId": "8f9e429c-1402-411a-9da1-7fe797e3e79a"
      },
      "execution_count": null,
      "outputs": [
        {
          "output_type": "stream",
          "name": "stdout",
          "text": [
            "<class 'set'>\n",
            "{1, 2, 3, 4, 5}\n"
          ]
        }
      ]
    },
    {
      "cell_type": "code",
      "source": [
        "#clear\n",
        "print(set1)\n",
        "set1.clear()\n",
        "print(set1)"
      ],
      "metadata": {
        "colab": {
          "base_uri": "https://localhost:8080/"
        },
        "id": "JtjxB93JGrBr",
        "outputId": "ce5017f1-921e-4969-b3a6-58127eddda87"
      },
      "execution_count": null,
      "outputs": [
        {
          "output_type": "stream",
          "name": "stdout",
          "text": [
            "{1, 2, 3, 4, 5}\n",
            "set()\n"
          ]
        }
      ]
    },
    {
      "cell_type": "code",
      "source": [
        "#copy\n",
        "set1={1,2,3,4}\n",
        "set2=set1.copy()\n",
        "print(set2)"
      ],
      "metadata": {
        "colab": {
          "base_uri": "https://localhost:8080/"
        },
        "id": "RPisluY5HCbt",
        "outputId": "a577f164-d571-4198-e9a8-69a35a7cd9f0"
      },
      "execution_count": null,
      "outputs": [
        {
          "output_type": "stream",
          "name": "stdout",
          "text": [
            "{1, 2, 3, 4}\n"
          ]
        }
      ]
    },
    {
      "cell_type": "code",
      "source": [
        "#difference\n",
        "A={1,2,3,4,5}\n",
        "B={4,5,6,7,8}\n",
        "C=A.difference(B) #A-B\n",
        "print(C)"
      ],
      "metadata": {
        "colab": {
          "base_uri": "https://localhost:8080/"
        },
        "id": "kCnCocPYHfVB",
        "outputId": "94190780-7eb6-45ee-a975-b3243f3ed076"
      },
      "execution_count": null,
      "outputs": [
        {
          "output_type": "stream",
          "name": "stdout",
          "text": [
            "{1, 2, 3}\n"
          ]
        }
      ]
    },
    {
      "cell_type": "code",
      "source": [
        "#difference update\n",
        "A={1,2,3,4,5}\n",
        "B={4,5,6,7,8}\n",
        "A.difference_update(B) #A-B and update in A\n",
        "print(A)"
      ],
      "metadata": {
        "colab": {
          "base_uri": "https://localhost:8080/"
        },
        "id": "C26msvcUH_6s",
        "outputId": "7fbe2dfa-343b-44ea-c7d4-9ee2b97109d8"
      },
      "execution_count": null,
      "outputs": [
        {
          "output_type": "stream",
          "name": "stdout",
          "text": [
            "{1, 2, 3}\n"
          ]
        }
      ]
    },
    {
      "cell_type": "code",
      "source": [
        "#pop\n",
        "A={1,2,3,4,5,6}\n",
        "A.pop() #delete random element\n",
        "print(A)"
      ],
      "metadata": {
        "colab": {
          "base_uri": "https://localhost:8080/"
        },
        "id": "mcZNAg2mI00t",
        "outputId": "bd456d06-e04f-4d99-ac53-eba5d86b9f94"
      },
      "execution_count": null,
      "outputs": [
        {
          "output_type": "stream",
          "name": "stdout",
          "text": [
            "{2, 3, 4, 5, 6}\n"
          ]
        }
      ]
    },
    {
      "cell_type": "code",
      "source": [
        "#discard\n",
        "A={1,2,3,4,5}\n",
        "A.discard(3) #delete specific element\n",
        "print(A)"
      ],
      "metadata": {
        "colab": {
          "base_uri": "https://localhost:8080/"
        },
        "id": "nCOo9xTbJh_s",
        "outputId": "7ed9db43-6433-41f2-bedb-f7a0ec91605f"
      },
      "execution_count": null,
      "outputs": [
        {
          "output_type": "stream",
          "name": "stdout",
          "text": [
            "{1, 2, 4, 5}\n"
          ]
        }
      ]
    },
    {
      "cell_type": "code",
      "source": [
        "#issubset\n",
        "A={1,2,3,4,5}\n",
        "B={1,2}\n",
        "print(A.issubset(B))\n",
        "print(B.issubset(A))"
      ],
      "metadata": {
        "colab": {
          "base_uri": "https://localhost:8080/"
        },
        "id": "3N4u-780NnYi",
        "outputId": "ceae350b-4d48-47b2-ca58-95d37f01b31d"
      },
      "execution_count": null,
      "outputs": [
        {
          "output_type": "stream",
          "name": "stdout",
          "text": [
            "False\n",
            "True\n"
          ]
        }
      ]
    },
    {
      "cell_type": "code",
      "source": [
        "#issuperset\n",
        "A={1,2,3,4,5}\n",
        "B={1,2}\n",
        "print(A.issuperset(B))"
      ],
      "metadata": {
        "colab": {
          "base_uri": "https://localhost:8080/"
        },
        "id": "s1zQBCvPN1kt",
        "outputId": "d2b36afa-fff7-4bac-bd0d-c4fe99beadd6"
      },
      "execution_count": null,
      "outputs": [
        {
          "output_type": "stream",
          "name": "stdout",
          "text": [
            "True\n"
          ]
        }
      ]
    },
    {
      "cell_type": "code",
      "source": [
        "#remove\n",
        "A={1,2,3,4,5}\n",
        "A.remove(2) #will give error if number put inside is not in the set, which is not the case for discard\n",
        "print(A)"
      ],
      "metadata": {
        "colab": {
          "base_uri": "https://localhost:8080/"
        },
        "id": "wXeOODkXOTyw",
        "outputId": "4519c7f0-baa4-4f77-8505-2d31943cdc96"
      },
      "execution_count": null,
      "outputs": [
        {
          "output_type": "stream",
          "name": "stdout",
          "text": [
            "{1, 3, 4, 5}\n"
          ]
        }
      ]
    },
    {
      "cell_type": "code",
      "source": [
        "#symmetric_difference\n",
        "A={1,2,3,4,5}\n",
        "B={4,5,6,7,8}\n",
        "print(A.symmetric_difference(B)) #common elements remove"
      ],
      "metadata": {
        "colab": {
          "base_uri": "https://localhost:8080/"
        },
        "id": "TfHdn2k9Ol3L",
        "outputId": "186fea0b-f1c4-49f9-9757-ac5dd46ab62c"
      },
      "execution_count": null,
      "outputs": [
        {
          "output_type": "stream",
          "name": "stdout",
          "text": [
            "{1, 2, 3, 6, 7, 8}\n"
          ]
        }
      ]
    },
    {
      "cell_type": "code",
      "source": [
        "#symmetric_difference_update\n",
        "A={1,2,3,4,5}\n",
        "B={4,5,6,7,8}\n",
        "print(A.symmetric_difference_update(B))\n",
        "print(A) #stores the result in A"
      ],
      "metadata": {
        "colab": {
          "base_uri": "https://localhost:8080/"
        },
        "id": "UjlAq9ccO6YT",
        "outputId": "67a87e1f-db9e-4857-f56e-fe5ef55d59e2"
      },
      "execution_count": null,
      "outputs": [
        {
          "output_type": "stream",
          "name": "stdout",
          "text": [
            "None\n",
            "{1, 2, 3, 6, 7, 8}\n"
          ]
        }
      ]
    },
    {
      "cell_type": "code",
      "source": [
        "#union\n",
        "A={1,2,3,4,5}\n",
        "B={4,5,6,7,8}\n",
        "print(A.union(B))"
      ],
      "metadata": {
        "colab": {
          "base_uri": "https://localhost:8080/"
        },
        "id": "zV52KHsKQIog",
        "outputId": "28ab09ae-d3aa-47b5-9345-e9973a61342d"
      },
      "execution_count": null,
      "outputs": [
        {
          "output_type": "stream",
          "name": "stdout",
          "text": [
            "{1, 2, 3, 4, 5, 6, 7, 8}\n"
          ]
        }
      ]
    },
    {
      "cell_type": "code",
      "source": [
        "#update\n",
        "A={1,2,3,4,5}\n",
        "B={4,5,6,7,8}\n",
        "A.update(B) #A union B and update\n",
        "print(A)"
      ],
      "metadata": {
        "colab": {
          "base_uri": "https://localhost:8080/"
        },
        "id": "4HPwTWySQflr",
        "outputId": "91306da7-bd9c-47bd-e7ba-2c2a2b26e880"
      },
      "execution_count": null,
      "outputs": [
        {
          "output_type": "stream",
          "name": "stdout",
          "text": [
            "{1, 2, 3, 4, 5, 6, 7, 8}\n"
          ]
        }
      ]
    },
    {
      "cell_type": "markdown",
      "source": [
        "Dictionary"
      ],
      "metadata": {
        "id": "1S_qPFIOSk4i"
      }
    },
    {
      "cell_type": "markdown",
      "source": [
        "Access dictionary data using third bracket, get method key(), values(), items()"
      ],
      "metadata": {
        "id": "wR-PBYJsTgRo"
      }
    },
    {
      "cell_type": "code",
      "source": [
        "student_info={\"name\": \"Pronab\",\"age\":\"27\",\"department\":\"FVM\"}\n",
        "print(student_info)"
      ],
      "metadata": {
        "colab": {
          "base_uri": "https://localhost:8080/"
        },
        "id": "jeFr3E7gSl7Y",
        "outputId": "a3480975-ba73-407b-fb06-faa44c5bc16f"
      },
      "execution_count": null,
      "outputs": [
        {
          "output_type": "stream",
          "name": "stdout",
          "text": [
            "{'name': 'Pronab', 'age': '27', 'department': 'FVM'}\n"
          ]
        }
      ]
    },
    {
      "cell_type": "code",
      "source": [
        "#accessing dictionary data\n",
        "print(student_info[\"name\"])"
      ],
      "metadata": {
        "colab": {
          "base_uri": "https://localhost:8080/"
        },
        "id": "2HdtvIqrTqgN",
        "outputId": "4f189cec-8944-4fd1-d4f9-5744dc541829"
      },
      "execution_count": null,
      "outputs": [
        {
          "output_type": "stream",
          "name": "stdout",
          "text": [
            "Pronab\n"
          ]
        }
      ]
    },
    {
      "cell_type": "code",
      "source": [
        "#get method to access dict data\n",
        "print(student_info.get(\"name\"))\n",
        "print(student_info.get(\"unknown\", \"key is not found\"))"
      ],
      "metadata": {
        "colab": {
          "base_uri": "https://localhost:8080/"
        },
        "id": "gKh689H5UPyS",
        "outputId": "08597e6f-ba0d-42c7-9c45-5df0beb164ef"
      },
      "execution_count": null,
      "outputs": [
        {
          "output_type": "stream",
          "name": "stdout",
          "text": [
            "Pronab\n",
            "key is not found\n"
          ]
        }
      ]
    },
    {
      "cell_type": "code",
      "source": [
        "#getting all keys\n",
        "print(student_info)\n",
        "all_keys=student_info.keys()\n",
        "print(all_keys)"
      ],
      "metadata": {
        "colab": {
          "base_uri": "https://localhost:8080/"
        },
        "id": "qR-y4K4SU7Dj",
        "outputId": "17f5bc84-8a14-4b97-ae73-b30ccee3546f"
      },
      "execution_count": null,
      "outputs": [
        {
          "output_type": "stream",
          "name": "stdout",
          "text": [
            "{'name': 'Pronab', 'age': '27', 'department': 'FVM'}\n",
            "dict_keys(['name', 'age', 'department'])\n"
          ]
        }
      ]
    },
    {
      "cell_type": "code",
      "source": [
        "#getting all values\n",
        "all_values=student_info.values()\n",
        "print(all_values)"
      ],
      "metadata": {
        "colab": {
          "base_uri": "https://localhost:8080/"
        },
        "id": "vuPDqWFaVW3d",
        "outputId": "5fc46d78-656a-46ca-8950-0621e03b6919"
      },
      "execution_count": null,
      "outputs": [
        {
          "output_type": "stream",
          "name": "stdout",
          "text": [
            "dict_values(['Pronab', '27', 'FVM'])\n"
          ]
        }
      ]
    },
    {
      "cell_type": "code",
      "source": [
        "#item\n",
        "all_items=student_info.items()\n",
        "print(all_items)"
      ],
      "metadata": {
        "colab": {
          "base_uri": "https://localhost:8080/"
        },
        "id": "sFNyjpDjVhts",
        "outputId": "126f8065-6cb9-4886-f834-fe933b7fc2f9"
      },
      "execution_count": null,
      "outputs": [
        {
          "output_type": "stream",
          "name": "stdout",
          "text": [
            "dict_items([('name', 'Pronab'), ('age', '27'), ('department', 'FVM')])\n"
          ]
        }
      ]
    },
    {
      "cell_type": "code",
      "source": [
        "#changing value\n",
        "print(student_info)\n",
        "student_info[\"age\"]=\"28\"\n",
        "print(student_info)"
      ],
      "metadata": {
        "colab": {
          "base_uri": "https://localhost:8080/"
        },
        "id": "Em_vDMC8XaE7",
        "outputId": "0f79a024-156a-4c08-9d03-64d7cd72de3d"
      },
      "execution_count": null,
      "outputs": [
        {
          "output_type": "stream",
          "name": "stdout",
          "text": [
            "{'name': 'Pronab', 'age': '27', 'department': 'FVM'}\n",
            "{'name': 'Pronab', 'age': '28', 'department': 'FVM'}\n"
          ]
        }
      ]
    },
    {
      "cell_type": "code",
      "source": [
        "#update\n",
        "print(student_info)\n",
        "student_info.update({\"name\":\"Shaikat\",\"department\":\"OHI\"})\n",
        "print(student_info)"
      ],
      "metadata": {
        "colab": {
          "base_uri": "https://localhost:8080/"
        },
        "id": "APfoTrTEX3sB",
        "outputId": "aab65ffb-ba02-4f2f-c2c5-270f5da73cbc"
      },
      "execution_count": null,
      "outputs": [
        {
          "output_type": "stream",
          "name": "stdout",
          "text": [
            "{'name': 'Pronab', 'age': '28', 'department': 'FVM'}\n",
            "{'name': 'Shaikat', 'age': '28', 'department': 'OHI'}\n"
          ]
        }
      ]
    },
    {
      "cell_type": "code",
      "source": [
        "#adding new key\n",
        "print(student_info)\n",
        "student_info[\"email\"]=\"pds@gmail.com\"\n",
        "print(student_info)"
      ],
      "metadata": {
        "colab": {
          "base_uri": "https://localhost:8080/"
        },
        "id": "K_P-926YYg3c",
        "outputId": "d9e58dd2-109d-48fe-f6b0-ecd2e162505f"
      },
      "execution_count": null,
      "outputs": [
        {
          "output_type": "stream",
          "name": "stdout",
          "text": [
            "{'name': 'Shaikat', 'age': '28', 'department': 'OHI'}\n",
            "{'name': 'Shaikat', 'age': '28', 'department': 'OHI', 'email': 'pds@gmail.com'}\n"
          ]
        }
      ]
    },
    {
      "cell_type": "code",
      "source": [
        "#conditional change of value\n",
        "print(student_info)\n",
        "if student_info[\"age\"]==\"28\":\n",
        "  student_info[\"age\"]=\"Twenty eight\"\n",
        "print(student_info)"
      ],
      "metadata": {
        "colab": {
          "base_uri": "https://localhost:8080/"
        },
        "id": "_V5DrBXFY3xM",
        "outputId": "50c2f923-2e28-4cc1-ed1e-96025ab78d9c"
      },
      "execution_count": null,
      "outputs": [
        {
          "output_type": "stream",
          "name": "stdout",
          "text": [
            "{'name': 'Shaikat', 'age': '28', 'department': 'OHI', 'email': 'pds@gmail.com'}\n",
            "{'name': 'Shaikat', 'age': 'Twenty eight', 'department': 'OHI', 'email': 'pds@gmail.com'}\n"
          ]
        }
      ]
    },
    {
      "cell_type": "code",
      "source": [
        "number={1:10,2:20,3:30,4:40,5:50}\n",
        "print(type(number))\n",
        "print(number)"
      ],
      "metadata": {
        "colab": {
          "base_uri": "https://localhost:8080/"
        },
        "id": "EIwx7g2GbdZM",
        "outputId": "d38022f6-77af-4492-89b7-00080344b6e7"
      },
      "execution_count": null,
      "outputs": [
        {
          "output_type": "stream",
          "name": "stdout",
          "text": [
            "<class 'dict'>\n",
            "{1: 10, 2: 20, 3: 30, 4: 40, 5: 50}\n"
          ]
        }
      ]
    },
    {
      "cell_type": "code",
      "source": [
        "number={\"ten\":10,\"twenty\":20,\"thirty\":30}\n",
        "print(number)\n",
        "number[\"forty\"]=40\n",
        "print(number)"
      ],
      "metadata": {
        "colab": {
          "base_uri": "https://localhost:8080/"
        },
        "id": "WWquzOX6cHuO",
        "outputId": "63ecf8cc-519d-43f6-925d-406e3f426cdd"
      },
      "execution_count": null,
      "outputs": [
        {
          "output_type": "stream",
          "name": "stdout",
          "text": [
            "{'ten': 10, 'twenty': 20, 'thirty': 30}\n",
            "{'ten': 10, 'twenty': 20, 'thirty': 30, 'forty': 40}\n"
          ]
        }
      ]
    },
    {
      "cell_type": "code",
      "source": [
        "#unpacking operator (*)\n",
        "number={\"ten\":10,\"twenty\":20,\"thirty\":30}\n",
        "number1={\"hundred\":100,\"two hundred\":200,\"thee hundred\":300}\n",
        "new_number={**number,**number1}\n",
        "print(new_number)"
      ],
      "metadata": {
        "colab": {
          "base_uri": "https://localhost:8080/"
        },
        "id": "ZSUWwi0GcdSC",
        "outputId": "32b6fa1f-9e41-434a-db9e-f223849f2317"
      },
      "execution_count": null,
      "outputs": [
        {
          "output_type": "stream",
          "name": "stdout",
          "text": [
            "{'ten': 10, 'twenty': 20, 'thirty': 30, 'hundred': 100, 'two hundred': 200, 'thee hundred': 300}\n"
          ]
        }
      ]
    },
    {
      "cell_type": "code",
      "source": [
        "#union assignment operator\n",
        "number={\"ten\":10,\"twenty\":20,\"thirty\":30}\n",
        "number1={\"hundred\":100,\"two hundred\":200,\"thee hundred\":300}\n",
        "nnn=number|number1\n",
        "print(nnn)"
      ],
      "metadata": {
        "colab": {
          "base_uri": "https://localhost:8080/"
        },
        "id": "in570ENrdM0m",
        "outputId": "504ec0b6-b048-4d7c-ca8e-c57265d9a594"
      },
      "execution_count": null,
      "outputs": [
        {
          "output_type": "stream",
          "name": "stdout",
          "text": [
            "{'ten': 10, 'twenty': 20, 'thirty': 30, 'hundred': 100, 'two hundred': 200, 'thee hundred': 300}\n"
          ]
        }
      ]
    },
    {
      "cell_type": "code",
      "source": [
        "number={\"ten\":10,\"twenty\":20,\"thirty\":30}\n",
        "number1={\"hundred\":100,\"two hundred\":200,\"thee hundred\":300}\n",
        "number|=number1 #stored in first variable\n",
        "print(number)"
      ],
      "metadata": {
        "colab": {
          "base_uri": "https://localhost:8080/"
        },
        "id": "M28XjPLuddOh",
        "outputId": "02058e88-75ae-4cdd-d97e-61ad49fef981"
      },
      "execution_count": null,
      "outputs": [
        {
          "output_type": "stream",
          "name": "stdout",
          "text": [
            "{'ten': 10, 'twenty': 20, 'thirty': 30, 'hundred': 100, 'two hundred': 200, 'thee hundred': 300}\n"
          ]
        }
      ]
    },
    {
      "cell_type": "code",
      "source": [
        "#initial dictionary\n",
        "student={\"name\":\"Alice\",\"age\":21}\n",
        "#adding new key-value pair\n",
        "major=student.setdefault(\"major\",\"CSE\") #1st one key, 2nd value\n",
        "print(student)"
      ],
      "metadata": {
        "colab": {
          "base_uri": "https://localhost:8080/"
        },
        "id": "oQ6AYBi8fxyk",
        "outputId": "6e0b2864-2b67-448b-8127-24a71a92c270"
      },
      "execution_count": null,
      "outputs": [
        {
          "output_type": "stream",
          "name": "stdout",
          "text": [
            "{'name': 'Alice', 'age': 21, 'major': 'CSE'}\n"
          ]
        }
      ]
    },
    {
      "cell_type": "code",
      "source": [
        "#delete\n",
        "number={\"ten\":10,\"twenty\":20,\"thirty\":30}\n",
        "print(number)\n",
        "del number[\"twenty\"]\n",
        "print(number)"
      ],
      "metadata": {
        "colab": {
          "base_uri": "https://localhost:8080/"
        },
        "id": "saZlrvaogLRS",
        "outputId": "c8944e35-81bb-419b-c375-12bf0fd2d80a"
      },
      "execution_count": null,
      "outputs": [
        {
          "output_type": "stream",
          "name": "stdout",
          "text": [
            "{'ten': 10, 'twenty': 20, 'thirty': 30}\n",
            "{'ten': 10, 'thirty': 30}\n"
          ]
        }
      ]
    },
    {
      "cell_type": "code",
      "source": [
        "#deleting whole dictionary\n",
        "number={\"ten\":10,\"twenty\":20,\"thirty\":30}\n",
        "del number\n",
        "print(number)"
      ],
      "metadata": {
        "colab": {
          "base_uri": "https://localhost:8080/",
          "height": 176
        },
        "id": "IEk_TJVzgh9b",
        "outputId": "5bb36382-58a1-4cf7-8074-ab04b8c246b3"
      },
      "execution_count": null,
      "outputs": [
        {
          "output_type": "error",
          "ename": "NameError",
          "evalue": "name 'number' is not defined",
          "traceback": [
            "\u001b[0;31m---------------------------------------------------------------------------\u001b[0m",
            "\u001b[0;31mNameError\u001b[0m                                 Traceback (most recent call last)",
            "\u001b[0;32m<ipython-input-26-114056d313ec>\u001b[0m in \u001b[0;36m<cell line: 0>\u001b[0;34m()\u001b[0m\n\u001b[1;32m      1\u001b[0m \u001b[0mnumber\u001b[0m\u001b[0;34m=\u001b[0m\u001b[0;34m{\u001b[0m\u001b[0;34m\"ten\"\u001b[0m\u001b[0;34m:\u001b[0m\u001b[0;36m10\u001b[0m\u001b[0;34m,\u001b[0m\u001b[0;34m\"twenty\"\u001b[0m\u001b[0;34m:\u001b[0m\u001b[0;36m20\u001b[0m\u001b[0;34m,\u001b[0m\u001b[0;34m\"thirty\"\u001b[0m\u001b[0;34m:\u001b[0m\u001b[0;36m30\u001b[0m\u001b[0;34m}\u001b[0m\u001b[0;34m\u001b[0m\u001b[0;34m\u001b[0m\u001b[0m\n\u001b[1;32m      2\u001b[0m \u001b[0;32mdel\u001b[0m \u001b[0mnumber\u001b[0m\u001b[0;34m\u001b[0m\u001b[0;34m\u001b[0m\u001b[0m\n\u001b[0;32m----> 3\u001b[0;31m \u001b[0mprint\u001b[0m\u001b[0;34m(\u001b[0m\u001b[0mnumber\u001b[0m\u001b[0;34m)\u001b[0m\u001b[0;34m\u001b[0m\u001b[0;34m\u001b[0m\u001b[0m\n\u001b[0m",
            "\u001b[0;31mNameError\u001b[0m: name 'number' is not defined"
          ]
        }
      ]
    },
    {
      "cell_type": "code",
      "source": [
        "#pop\n",
        "number={\"ten\":10,\"twenty\":20,\"thirty\":30}\n",
        "val=number.pop(\"twenty\")\n",
        "print(number)\n",
        "print(val)"
      ],
      "metadata": {
        "colab": {
          "base_uri": "https://localhost:8080/"
        },
        "id": "4X94fLiwgqGo",
        "outputId": "d4c14621-5540-474a-e1e2-603674e503ba"
      },
      "execution_count": null,
      "outputs": [
        {
          "output_type": "stream",
          "name": "stdout",
          "text": [
            "{'ten': 10, 'thirty': 30}\n",
            "20\n"
          ]
        }
      ]
    },
    {
      "cell_type": "code",
      "source": [
        "#popitem\n",
        "number={\"ten\":10,\"twenty\":20,\"thirty\":30}\n",
        "print(number)\n",
        "val=number.popitem()\n",
        "print(number)\n",
        "print(val)"
      ],
      "metadata": {
        "colab": {
          "base_uri": "https://localhost:8080/"
        },
        "id": "Uo2CMR8qhy4O",
        "outputId": "c608f446-0133-4f26-a26c-9a6b88e55943"
      },
      "execution_count": null,
      "outputs": [
        {
          "output_type": "stream",
          "name": "stdout",
          "text": [
            "{'ten': 10, 'twenty': 20, 'thirty': 30}\n",
            "{'ten': 10, 'twenty': 20}\n",
            "('thirty', 30)\n"
          ]
        }
      ]
    },
    {
      "cell_type": "code",
      "source": [
        "def unique_char_count(s):\n",
        "  char_count={}\n",
        "  for char in s:\n",
        "    char_count[char]=char_count.get(char,0)+1 #first turn, 'p' key\n",
        "#in first turn, p and value 0, as it is empty dict\n",
        "  for char, count in char_count.items():\n",
        "    print(f\"'{char}':{count}\")\n",
        "\n",
        "input_str=\"programming\"\n",
        "print(\"Unique characters with their count:\")\n",
        "unique_char_count(input_str)"
      ],
      "metadata": {
        "colab": {
          "base_uri": "https://localhost:8080/"
        },
        "id": "T4PgY_0sjqCa",
        "outputId": "633833ff-befd-46f6-c296-d1249a220dae"
      },
      "execution_count": null,
      "outputs": [
        {
          "output_type": "stream",
          "name": "stdout",
          "text": [
            "Unique characters with their count:\n",
            "'p':1\n",
            "'r':2\n",
            "'o':1\n",
            "'g':2\n",
            "'a':1\n",
            "'m':2\n",
            "'i':1\n",
            "'n':1\n"
          ]
        }
      ]
    },
    {
      "cell_type": "code",
      "source": [
        "#adding character in string (immutable)\n",
        "s1=\"NATAR\"\n",
        "print(s1)\n",
        "l1=list(s1) #converting to list\n",
        "print(l1)\n",
        "l1.insert(2,\"C\")\n",
        "print(l1)\n",
        "s1=''.join(l1) #converting back to string\n",
        "print(s1)"
      ],
      "metadata": {
        "colab": {
          "base_uri": "https://localhost:8080/"
        },
        "id": "hDZS67hPdrdD",
        "outputId": "81460238-95a8-4a89-eeef-076da89aab06"
      },
      "execution_count": null,
      "outputs": [
        {
          "output_type": "stream",
          "name": "stdout",
          "text": [
            "NATAR\n",
            "['N', 'A', 'T', 'A', 'R']\n",
            "['N', 'A', 'C', 'T', 'A', 'R']\n",
            "NACTAR\n"
          ]
        }
      ]
    },
    {
      "cell_type": "code",
      "source": [
        "s1=\"NATAR\"\n",
        "print(s1[2])\n",
        "s1[2]=\"C\"\n",
        "print(s1)"
      ],
      "metadata": {
        "colab": {
          "base_uri": "https://localhost:8080/",
          "height": 211
        },
        "id": "xDM8cgXYeeCV",
        "outputId": "ede28a51-ac54-42e8-eb93-1b262bfb0cd7"
      },
      "execution_count": null,
      "outputs": [
        {
          "output_type": "stream",
          "name": "stdout",
          "text": [
            "T\n"
          ]
        },
        {
          "output_type": "error",
          "ename": "TypeError",
          "evalue": "'str' object does not support item assignment",
          "traceback": [
            "\u001b[0;31m---------------------------------------------------------------------------\u001b[0m",
            "\u001b[0;31mTypeError\u001b[0m                                 Traceback (most recent call last)",
            "\u001b[0;32m<ipython-input-9-2ba985feb0b6>\u001b[0m in \u001b[0;36m<cell line: 0>\u001b[0;34m()\u001b[0m\n\u001b[1;32m      1\u001b[0m \u001b[0ms1\u001b[0m\u001b[0;34m=\u001b[0m\u001b[0;34m\"NATAR\"\u001b[0m\u001b[0;34m\u001b[0m\u001b[0;34m\u001b[0m\u001b[0m\n\u001b[1;32m      2\u001b[0m \u001b[0mprint\u001b[0m\u001b[0;34m(\u001b[0m\u001b[0ms1\u001b[0m\u001b[0;34m[\u001b[0m\u001b[0;36m2\u001b[0m\u001b[0;34m]\u001b[0m\u001b[0;34m)\u001b[0m\u001b[0;34m\u001b[0m\u001b[0;34m\u001b[0m\u001b[0m\n\u001b[0;32m----> 3\u001b[0;31m \u001b[0ms1\u001b[0m\u001b[0;34m[\u001b[0m\u001b[0;36m2\u001b[0m\u001b[0;34m]\u001b[0m\u001b[0;34m=\u001b[0m \u001b[0;34m\"C\"\u001b[0m\u001b[0;34m\u001b[0m\u001b[0;34m\u001b[0m\u001b[0m\n\u001b[0m\u001b[1;32m      4\u001b[0m \u001b[0mprint\u001b[0m\u001b[0;34m(\u001b[0m\u001b[0ms1\u001b[0m\u001b[0;34m)\u001b[0m\u001b[0;34m\u001b[0m\u001b[0;34m\u001b[0m\u001b[0m\n",
            "\u001b[0;31mTypeError\u001b[0m: 'str' object does not support item assignment"
          ]
        }
      ]
    },
    {
      "cell_type": "code",
      "source": [
        "import array as ar #shorten for of array (ar)\n",
        "s1=\"NATAR\"\n",
        "print(s1)\n",
        "s2=ar.array('u',s1) #convert to array, here 'u' is unicode\n",
        "print(type(s2))\n",
        "s2.insert(2,\"C\")\n",
        "s1=s2.tounicode()\n",
        "print(s1)\n",
        "print(type(s1))"
      ],
      "metadata": {
        "colab": {
          "base_uri": "https://localhost:8080/"
        },
        "id": "QFt0fzJqgF5i",
        "outputId": "8a060eaa-9b0f-4b6f-8c77-e4ed1eccd989"
      },
      "execution_count": null,
      "outputs": [
        {
          "output_type": "stream",
          "name": "stdout",
          "text": [
            "NATAR\n",
            "<class 'array.array'>\n",
            "NACTAR\n",
            "<class 'str'>\n"
          ]
        }
      ]
    },
    {
      "cell_type": "code",
      "source": [
        "mystring=\"Hello, This program will count vowels\"\n",
        "vowels=\"aeiou\"\n",
        "count=0\n",
        "for char in mystring:\n",
        "  if char.lower() in vowels: #.lower convert capital letter to small\n",
        "    count+=1\n",
        "print(count)"
      ],
      "metadata": {
        "colab": {
          "base_uri": "https://localhost:8080/"
        },
        "id": "PlaCVvPEhT63",
        "outputId": "ad3d70a0-2851-45a7-ab96-f636542dda38"
      },
      "execution_count": null,
      "outputs": [
        {
          "output_type": "stream",
          "name": "stdout",
          "text": [
            "10\n"
          ]
        }
      ]
    },
    {
      "cell_type": "code",
      "source": [
        "mystring=\"Hello, This program will count consonant\"\n",
        "vowels=\"aeiou\"\n",
        "count=0\n",
        "for char in mystring:\n",
        "  if char.lower() not in vowels:\n",
        "    count+=1\n",
        "print(\"Consonant count\", count)\n",
        "print(len(mystring))\n",
        "print(\"Vowel count\", len(mystring)-count)"
      ],
      "metadata": {
        "colab": {
          "base_uri": "https://localhost:8080/"
        },
        "id": "wiQKv9bZmJ7m",
        "outputId": "7dfee69d-c7bc-4a40-fe5c-df24bec75947"
      },
      "execution_count": null,
      "outputs": [
        {
          "output_type": "stream",
          "name": "stdout",
          "text": [
            "Consonant count 29\n",
            "40\n",
            "Vowel count 11\n"
          ]
        }
      ]
    },
    {
      "cell_type": "code",
      "source": [
        "s1=\"NATIONAL\"\n",
        "s2=\"ACADEMY\"\n",
        "a1=\" \"\n",
        "s3=s1+a1+s2\n",
        "print(s3)"
      ],
      "metadata": {
        "colab": {
          "base_uri": "https://localhost:8080/"
        },
        "id": "r4O6_ZMbnMez",
        "outputId": "e3d7618b-d7ba-4a36-8efe-bf24ddba76a5"
      },
      "execution_count": null,
      "outputs": [
        {
          "output_type": "stream",
          "name": "stdout",
          "text": [
            "NATIONAL ACADEMY\n"
          ]
        }
      ]
    },
    {
      "cell_type": "code",
      "source": [
        "s1=\"NATIONAL\"\n",
        "s2=s1*5\n",
        "print(s2)"
      ],
      "metadata": {
        "colab": {
          "base_uri": "https://localhost:8080/"
        },
        "id": "PAgjiotnn-b3",
        "outputId": "23a2a6d9-a4cc-42dc-d830-9fcd6cecd009"
      },
      "execution_count": null,
      "outputs": [
        {
          "output_type": "stream",
          "name": "stdout",
          "text": [
            "NATIONALNATIONALNATIONALNATIONALNATIONAL\n"
          ]
        }
      ]
    },
    {
      "cell_type": "code",
      "source": [
        "#format specifier: %s\n",
        "s1=\"NACTAR\"\n",
        "print(\"NATIONAL ACADEMY FOR COMPUTER %s\"%s1)"
      ],
      "metadata": {
        "colab": {
          "base_uri": "https://localhost:8080/"
        },
        "id": "vvYp1mZToJJD",
        "outputId": "55f4c190-6e88-472e-f240-f0498b2d8314"
      },
      "execution_count": null,
      "outputs": [
        {
          "output_type": "stream",
          "name": "stdout",
          "text": [
            "NATIONAL ACADEMY FOR COMPUTER NACTAR\n"
          ]
        }
      ]
    },
    {
      "cell_type": "code",
      "source": [
        "#format method\n",
        "s1=\"NATIONAL ACADEMY FOR {}\"\n",
        "print(s1.format(\"COMPUTER\"))"
      ],
      "metadata": {
        "colab": {
          "base_uri": "https://localhost:8080/"
        },
        "id": "59cfJdR8pq--",
        "outputId": "7f9bf6ad-38ce-4288-ef0f-bdd993378143"
      },
      "execution_count": null,
      "outputs": [
        {
          "output_type": "stream",
          "name": "stdout",
          "text": [
            "NATIONAL ACADEMY FOR COMPUTER\n"
          ]
        }
      ]
    },
    {
      "cell_type": "code",
      "source": [
        "#f\n",
        "val=20\n",
        "val1=40\n",
        "sum=f\"total value= {val+val1}\"\n",
        "print(sum)\n",
        "print(f\"total value:{val} and {val1}\")"
      ],
      "metadata": {
        "colab": {
          "base_uri": "https://localhost:8080/"
        },
        "id": "c0M8ieP6qM0-",
        "outputId": "8535706b-cdeb-4b0e-fbae-4ef09e3759a3"
      },
      "execution_count": null,
      "outputs": [
        {
          "output_type": "stream",
          "name": "stdout",
          "text": [
            "total value= 60\n",
            "total value:20 and 40\n"
          ]
        }
      ]
    }
  ]
}